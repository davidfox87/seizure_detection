{
 "cells": [
  {
   "cell_type": "markdown",
   "metadata": {},
   "source": [
    "# Feature engineering and first pass modeling"
   ]
  },
  {
   "cell_type": "markdown",
   "metadata": {},
   "source": [
    "## now we are going to construct a feature space using welch power spectrum energy in given frequency  bands and the features extracted from the first 6 DWT coefficients"
   ]
  },
  {
   "cell_type": "markdown",
   "metadata": {},
   "source": [
    "This dataset has only one signal that was divided into multipule datasets lasting 23.6 seconds each. Each dataset was associated with a class and had features extracted from it. These briefly were:\n",
    "\n",
    "### Welch\n",
    "\n",
    "The Welch method is a spectral density estimation method that calculates a periodogram for windowed sections of data using a Fourier Transform. Overlapping segments are windowed with a discrete Fourier tranform applied to calculate the periodogram which is then squared and averaged to get a power measure.\n",
    "\n",
    "    power_delta: Average power between 0.1hz and 4hz\n",
    "    power_theta: Average power between 4hz and 8hz\n",
    "    power_alpha: Average power between 8hz and 12hz\n",
    "    power_beta: Average power between 12hz and 30hz\n",
    "    power_gamma: Average power between 30hz and 70hz\n",
    "\n",
    "### Discrete Wavelet Transform\n",
    "\n",
    "Several oscillatory kernel-based wavelets are stretched and moved to different positions in time across a signal, dividing the data into different frequency components which are each analysed in respect to their scale.\n",
    "\n",
    "    LSWT: The log-sum energy of the subband coefficients\n",
    "    mean: Average power of the wavelet coefficients in each sub-band\n",
    "    mean_abs: Mean of the absolute values of the coefficients in each sub-band\n",
    "    std: Standard deviation of the coefficients in each sub-band\n",
    "    Ratio: Ratio of the absolute mean values of adjacent sub-bands\n"
   ]
  },
  {
   "cell_type": "code",
   "execution_count": 1,
   "metadata": {},
   "outputs": [],
   "source": [
    "import pandas as pd\n",
    "import glob\n",
    "from matplotlib import pyplot as plt\n",
    "from tqdm import tqdm\n",
    "import numpy as np\n",
    "from scipy.signal import filtfilt, freqz, butter\n",
    "from scipy.signal import welch\n",
    "from sklearn.preprocessing import StandardScaler\n",
    "from sklearn.model_selection import train_test_split\n",
    "from sklearn.linear_model import LogisticRegression\n",
    "from collections import Counter\n",
    "import pywt\n",
    "from pywt import Wavelet\n",
    "from pywt import wavedec\n",
    "import re\n",
    "import sys"
   ]
  },
  {
   "cell_type": "code",
   "execution_count": 2,
   "metadata": {},
   "outputs": [],
   "source": [
    "\n",
    "def ratio(data, output=False):\n",
    "    # get the mean of the absolute values\n",
    "    data = data.abs().mean()\n",
    "    # get a list of the index\n",
    "    decimation_levels = list(data.index)\n",
    "\n",
    "    ratio_data = pd.Series(index=data.index)\n",
    "    for level_no in range(0, len(decimation_levels)):\n",
    "        # for the first decimation\n",
    "        if level_no == 0:\n",
    "            ratio_data.loc[decimation_levels[level_no]] = \\\n",
    "                data.loc[decimation_levels[level_no]] / data.loc[decimation_levels[level_no + 1]]\n",
    "\n",
    "        # for the last decimation\n",
    "        elif level_no == len(decimation_levels) - 1:\n",
    "            ratio_data.loc[decimation_levels[level_no]] = \\\n",
    "                data.loc[decimation_levels[level_no]] / data.loc[decimation_levels[level_no - 1]]\n",
    "        else:\n",
    "            before = data.loc[decimation_levels[level_no - 1]]\n",
    "            after = data.loc[decimation_levels[level_no + 1]]\n",
    "            mean_data = (before + after) / 2\n",
    "\n",
    "            ratio_data.loc[decimation_levels[level_no]] = \\\n",
    "                data.loc[decimation_levels[level_no]] / mean_data\n",
    "\n",
    "    ratio_data.index += '_Ratio'\n",
    "\n",
    "    if output:\n",
    "        pd.display(ratio_data)\n",
    "\n",
    "    return ratio_data\n",
    "\n",
    "\n",
    "def coeff_std(data, output=False):\n",
    "    # get the standard deviation of the coeficients\n",
    "    std_data = data.std()\n",
    "\n",
    "    std_data.index += '_std'\n",
    "\n",
    "    return std_data\n",
    "\n",
    "\n",
    "def ave(data):\n",
    "    mean_data = data.mean()\n",
    "\n",
    "    mean_data.index += '_mean'\n",
    "\n",
    "    return mean_data\n",
    "\n",
    "\n",
    "def mean_abs(data):\n",
    "    # get the mean of the absolute values\n",
    "    mean_abs_data = data.abs().mean()\n",
    "\n",
    "    mean_abs_data.index += '_mean_abs'\n",
    "\n",
    "    return mean_abs_data\n",
    "\n",
    "def minus_small(data):\n",
    "    # find the smallest value for each data column (channel)...\n",
    "    min_val = data.min()\n",
    "    # ...and subtract it from all the data in the column and add one\n",
    "    data = data.subtract(min_val).add(1)\n",
    "\n",
    "    return data\n",
    "\n",
    "\n",
    "def log_sum(data, output=False):\n",
    "    absolute_sums = data.sum()\n",
    "    # ...and subtract it from all the data in the column and add one\n",
    "    absolute_sums_minus = minus_small(absolute_sums)\n",
    "    # find the log of each elecment (datapoint)\n",
    "    absolute_sums_log = absolute_sums_minus.apply(np.log)\n",
    "    absolute_sums_log.index += '_LSWT'\n",
    "\n",
    "    if output:\n",
    "        pd.display(absolute_sums_log)\n",
    "\n",
    "    return absolute_sums_log\n",
    "\n",
    "\n",
    "def wavelet_decompose(data, output=False):\n",
    "    # decompose data into coefficients\n",
    "    level = 6\n",
    "\n",
    "    # transpose the data\n",
    "    data_t = data.transpose()\n",
    "\n",
    "    # get the wavelet coefficients at each level in a list\n",
    "    coeffs_list = wavedec(data_t, wavelet='db4', level=level, mode='per')\n",
    "\n",
    "    # make a list of the component names (later column rows)\n",
    "    nums = list(range(1, level + 1))\n",
    "    names = []\n",
    "    for num in nums:\n",
    "        names.append('D' + str(num))\n",
    "    names.append('A' + str(nums[-1]))\n",
    "\n",
    "    # reverse the names so it counts down\n",
    "    names = names[::-1]\n",
    "\n",
    "    # make an empy dataframe\n",
    "    wavelets = pd.DataFrame()\n",
    "\n",
    "    # for each array in the list of arrays\n",
    "    for i, array in enumerate(coeffs_list):\n",
    "        # turn into a dataframe and transpose\n",
    "        level_df = pd.DataFrame(array)\n",
    "        # name the column the appropriate level name\n",
    "        level_df.columns = [names[i]]\n",
    "        # if the wavelets df is empty...\n",
    "        if wavelets.empty:\n",
    "            # ... make the first level df the wavelets df\n",
    "            wavelets = level_df\n",
    "        # ..otherwise...\n",
    "        else:\n",
    "            # ... add the next levels df to another column\n",
    "            wavelets = pd.concat([wavelets, level_df], axis=1)\n",
    "\n",
    "    # remove the AN levels\n",
    "    regex = re.compile('D')\n",
    "    bad_items = [x for x in list(wavelets.columns) if not regex.match(x)]\n",
    "    decom_wavelets = wavelets.drop(bad_items, axis=1)\n",
    "\n",
    "    if output:\n",
    "        pd.display(decom_wavelets)\n",
    "        \n",
    "#     return pd.concat([ratio(decom_wavelets).to_frame().T, log_sum(decom_wavelets).to_frame().T, \n",
    "#                ave(decom_wavelets).to_frame().T, mean_abs(decom_wavelets).to_frame().T], axis=1)\n",
    "    return pd.concat([ratio(decom_wavelets), log_sum(decom_wavelets), ave(decom_wavelets),\n",
    "                      mean_abs(decom_wavelets)])\n",
    "\n",
    "\n",
    "def bandpower(data, sf, band, output = False):\n",
    "    band = np.asarray(band)\n",
    "    low, high = band\n",
    "    #print(low, sf, (2 / low)*sf)\n",
    "    # Compute the periodogram (Welch)\n",
    "    freqs, psd = welch(data, \n",
    "                       sf, \n",
    "                       nperseg=(2 / low)*sf,\n",
    "                       scaling='density', \n",
    "                       axis=0)\n",
    "    \n",
    "    # put into a df\n",
    "    psd = pd.DataFrame(psd, index = freqs)\n",
    "    \n",
    "    if output:\n",
    "        print(color.BOLD+'Welch Output'+color.END)\n",
    "        psd.index.name = 'Hz'\n",
    "        psd.columns = ['Power']\n",
    "        display(psd)\n",
    "    \n",
    "    # Find closest indices of band in frequency vector\n",
    "    idx_min = np.argmax(np.round(freqs) > low) - 1\n",
    "    idx_max = np.argmax(np.round(freqs) > high)\n",
    "    \n",
    "    # select frequencies of interest\n",
    "    psd = psd.iloc[idx_min:idx_max,:]\n",
    "    \n",
    "    # get the mean of each channel over all frequencies in the band\n",
    "    psd = psd.mean()\n",
    "    \n",
    "    if output:\n",
    "        print(color.BOLD+'\\nMean Frequency Band'+color.END)\n",
    "        display(psd)\n",
    "    \n",
    "    return psd\n",
    "\n",
    "\n",
    "def power_measures(data, sample_rate, output=False):\n",
    "    bandpasses = [[[0.1,4],'power_delta'],\n",
    "                  [[4,8],'power_theta'],\n",
    "                  [[8,12],'power_alpha'],\n",
    "                  [[12,30],'power_beta'],\n",
    "                  [[30,70],'power_gamma']\n",
    "                 ]\n",
    "    \n",
    "    welch_df = pd.DataFrame()\n",
    "    for bandpass, freq_name in bandpasses:\n",
    "        bandpass_data = bandpower(data, sample_rate, bandpass)\n",
    "        bandpass_data.index = [freq_name]\n",
    "        \n",
    "        if welch_df.empty:\n",
    "            welch_df = bandpass_data\n",
    "\n",
    "        else:\n",
    "            welch_df = pd.concat([welch_df, bandpass_data])\n",
    "        \n",
    "    welch_df = welch_df.T\n",
    "    \n",
    "    if output:\n",
    "        display(welch_df)\n",
    "    \n",
    "    return welch_df\n"
   ]
  },
  {
   "cell_type": "markdown",
   "metadata": {},
   "source": [
    "# 1. load the dataset"
   ]
  },
  {
   "cell_type": "code",
   "execution_count": 3,
   "metadata": {},
   "outputs": [
    {
     "name": "stderr",
     "output_type": "stream",
     "text": [
      "100%|██████████| 500/500 [00:08<00:00, 59.90it/s] \n"
     ]
    }
   ],
   "source": [
    "\n",
    "\n",
    "files = glob.glob('datasets/*/*.[tT][xX][tT]')\n",
    "li = []\n",
    "df2 = pd.DataFrame()\n",
    "for i in tqdm(range(len(files))):\n",
    "    df = pd.read_csv(files[i], header=None)\n",
    "    df2 = pd.concat([df2, df], axis=1)\n",
    "\n",
    "sf = df2.shape[0]/23.6\n",
    "\n"
   ]
  },
  {
   "cell_type": "code",
   "execution_count": 4,
   "metadata": {},
   "outputs": [],
   "source": [
    "df2.columns = np.arange(len(df2.columns))"
   ]
  },
  {
   "cell_type": "code",
   "execution_count": 5,
   "metadata": {},
   "outputs": [],
   "source": [
    "# add target variable on the end\n",
    "target = pd.DataFrame(np.concatenate([np.repeat(0, 400).T, np.repeat(1, 100)], axis=0)).T"
   ]
  },
  {
   "cell_type": "code",
   "execution_count": 6,
   "metadata": {},
   "outputs": [],
   "source": [
    "df4 = df2.append(target, ignore_index=True)"
   ]
  },
  {
   "cell_type": "markdown",
   "metadata": {},
   "source": [
    "## shuffling the columns so all 1's are not at the end together"
   ]
  },
  {
   "cell_type": "code",
   "execution_count": 7,
   "metadata": {},
   "outputs": [],
   "source": [
    "df4 = (df4.T).sample(frac=1).T\n",
    "y = df4.iloc[[-1]].values\n",
    "df4 = df4[:-1]"
   ]
  },
  {
   "cell_type": "markdown",
   "metadata": {},
   "source": [
    "# 2. Apply functions to each column to get features"
   ]
  },
  {
   "cell_type": "markdown",
   "metadata": {},
   "source": [
    "### Fourier transform features"
   ]
  },
  {
   "cell_type": "code",
   "execution_count": 8,
   "metadata": {},
   "outputs": [],
   "source": [
    "welchFeatures = df4.apply(lambda x: power_measures(x, sf), axis=0).T"
   ]
  },
  {
   "cell_type": "markdown",
   "metadata": {},
   "source": [
    "### Discrete wavelet transform features"
   ]
  },
  {
   "cell_type": "code",
   "execution_count": 9,
   "metadata": {},
   "outputs": [
    {
     "name": "stderr",
     "output_type": "stream",
     "text": [
      "/opt/anaconda3/lib/python3.7/site-packages/ipykernel_launcher.py:7: DeprecationWarning: The default dtype for empty Series will be 'object' instead of 'float64' in a future version. Specify a dtype explicitly to silence this warning.\n",
      "  import sys\n"
     ]
    }
   ],
   "source": [
    "dwtFeatures = df4.apply(wavelet_decompose, axis=0).T"
   ]
  },
  {
   "cell_type": "code",
   "execution_count": 10,
   "metadata": {},
   "outputs": [],
   "source": [
    "featureSpace = pd.concat([welchFeatures, dwtFeatures], axis=1) # concatenate welch and wavelet features"
   ]
  },
  {
   "cell_type": "code",
   "execution_count": 162,
   "metadata": {},
   "outputs": [],
   "source": [
    "X=featureSpace\n",
    "y = y.T"
   ]
  },
  {
   "cell_type": "code",
   "execution_count": 160,
   "metadata": {},
   "outputs": [
    {
     "name": "stdout",
     "output_type": "stream",
     "text": [
      "<class 'pandas.core.frame.DataFrame'>\n",
      "Int64Index: 500 entries, 357 to 457\n",
      "Data columns (total 29 columns):\n",
      " #   Column       Non-Null Count  Dtype  \n",
      "---  ------       --------------  -----  \n",
      " 0   power_delta  500 non-null    float64\n",
      " 1   power_theta  500 non-null    float64\n",
      " 2   power_alpha  500 non-null    float64\n",
      " 3   power_beta   500 non-null    float64\n",
      " 4   power_gamma  500 non-null    float64\n",
      " 5   D6_Ratio     500 non-null    float64\n",
      " 6   D5_Ratio     500 non-null    float64\n",
      " 7   D4_Ratio     500 non-null    float64\n",
      " 8   D3_Ratio     500 non-null    float64\n",
      " 9   D2_Ratio     500 non-null    float64\n",
      " 10  D1_Ratio     500 non-null    float64\n",
      " 11  D6_LSWT      500 non-null    float64\n",
      " 12  D5_LSWT      500 non-null    float64\n",
      " 13  D4_LSWT      500 non-null    float64\n",
      " 14  D3_LSWT      500 non-null    float64\n",
      " 15  D2_LSWT      500 non-null    float64\n",
      " 16  D1_LSWT      500 non-null    float64\n",
      " 17  D6_mean      500 non-null    float64\n",
      " 18  D5_mean      500 non-null    float64\n",
      " 19  D4_mean      500 non-null    float64\n",
      " 20  D3_mean      500 non-null    float64\n",
      " 21  D2_mean      500 non-null    float64\n",
      " 22  D1_mean      500 non-null    float64\n",
      " 23  D6_mean_abs  500 non-null    float64\n",
      " 24  D5_mean_abs  500 non-null    float64\n",
      " 25  D4_mean_abs  500 non-null    float64\n",
      " 26  D3_mean_abs  500 non-null    float64\n",
      " 27  D2_mean_abs  500 non-null    float64\n",
      " 28  D1_mean_abs  500 non-null    float64\n",
      "dtypes: float64(29)\n",
      "memory usage: 117.2 KB\n"
     ]
    },
    {
     "data": {
      "text/plain": [
       "None"
      ]
     },
     "metadata": {},
     "output_type": "display_data"
    },
    {
     "data": {
      "text/html": [
       "<div>\n",
       "<style scoped>\n",
       "    .dataframe tbody tr th:only-of-type {\n",
       "        vertical-align: middle;\n",
       "    }\n",
       "\n",
       "    .dataframe tbody tr th {\n",
       "        vertical-align: top;\n",
       "    }\n",
       "\n",
       "    .dataframe thead th {\n",
       "        text-align: right;\n",
       "    }\n",
       "</style>\n",
       "<table border=\"1\" class=\"dataframe\">\n",
       "  <thead>\n",
       "    <tr style=\"text-align: right;\">\n",
       "      <th></th>\n",
       "      <th>power_delta</th>\n",
       "      <th>power_theta</th>\n",
       "      <th>power_alpha</th>\n",
       "      <th>power_beta</th>\n",
       "      <th>power_gamma</th>\n",
       "      <th>D6_Ratio</th>\n",
       "      <th>D5_Ratio</th>\n",
       "      <th>D4_Ratio</th>\n",
       "      <th>D3_Ratio</th>\n",
       "      <th>D2_Ratio</th>\n",
       "      <th>...</th>\n",
       "      <th>D4_mean</th>\n",
       "      <th>D3_mean</th>\n",
       "      <th>D2_mean</th>\n",
       "      <th>D1_mean</th>\n",
       "      <th>D6_mean_abs</th>\n",
       "      <th>D5_mean_abs</th>\n",
       "      <th>D4_mean_abs</th>\n",
       "      <th>D3_mean_abs</th>\n",
       "      <th>D2_mean_abs</th>\n",
       "      <th>D1_mean_abs</th>\n",
       "    </tr>\n",
       "  </thead>\n",
       "  <tbody>\n",
       "    <tr>\n",
       "      <th>357</th>\n",
       "      <td>369.120037</td>\n",
       "      <td>352.542350</td>\n",
       "      <td>219.789014</td>\n",
       "      <td>50.057098</td>\n",
       "      <td>11.317664</td>\n",
       "      <td>1.412244</td>\n",
       "      <td>0.786319</td>\n",
       "      <td>1.622369</td>\n",
       "      <td>0.636899</td>\n",
       "      <td>0.502254</td>\n",
       "      <td>...</td>\n",
       "      <td>2.521310</td>\n",
       "      <td>1.710888</td>\n",
       "      <td>-0.088914</td>\n",
       "      <td>-0.024502</td>\n",
       "      <td>166.075471</td>\n",
       "      <td>117.596905</td>\n",
       "      <td>133.031739</td>\n",
       "      <td>46.400020</td>\n",
       "      <td>12.674264</td>\n",
       "      <td>4.069521</td>\n",
       "    </tr>\n",
       "    <tr>\n",
       "      <th>414</th>\n",
       "      <td>170.272780</td>\n",
       "      <td>91.248519</td>\n",
       "      <td>81.837360</td>\n",
       "      <td>57.813681</td>\n",
       "      <td>16.141807</td>\n",
       "      <td>1.130649</td>\n",
       "      <td>1.031881</td>\n",
       "      <td>0.917942</td>\n",
       "      <td>1.381581</td>\n",
       "      <td>0.663050</td>\n",
       "      <td>...</td>\n",
       "      <td>-6.183026</td>\n",
       "      <td>1.970947</td>\n",
       "      <td>0.153614</td>\n",
       "      <td>-0.036580</td>\n",
       "      <td>93.072748</td>\n",
       "      <td>82.318008</td>\n",
       "      <td>66.476720</td>\n",
       "      <td>62.520630</td>\n",
       "      <td>24.029208</td>\n",
       "      <td>9.960218</td>\n",
       "    </tr>\n",
       "    <tr>\n",
       "      <th>451</th>\n",
       "      <td>179.528459</td>\n",
       "      <td>206.243281</td>\n",
       "      <td>258.537856</td>\n",
       "      <td>83.399922</td>\n",
       "      <td>18.367247</td>\n",
       "      <td>1.389559</td>\n",
       "      <td>0.597221</td>\n",
       "      <td>1.833507</td>\n",
       "      <td>1.008122</td>\n",
       "      <td>0.501076</td>\n",
       "      <td>...</td>\n",
       "      <td>-4.911867</td>\n",
       "      <td>1.762548</td>\n",
       "      <td>0.000942</td>\n",
       "      <td>0.027263</td>\n",
       "      <td>88.221607</td>\n",
       "      <td>63.488905</td>\n",
       "      <td>124.392681</td>\n",
       "      <td>72.199336</td>\n",
       "      <td>18.842634</td>\n",
       "      <td>3.009377</td>\n",
       "    </tr>\n",
       "    <tr>\n",
       "      <th>142</th>\n",
       "      <td>247.653592</td>\n",
       "      <td>109.859448</td>\n",
       "      <td>109.286705</td>\n",
       "      <td>45.426403</td>\n",
       "      <td>11.268524</td>\n",
       "      <td>1.048850</td>\n",
       "      <td>1.050830</td>\n",
       "      <td>1.082920</td>\n",
       "      <td>1.089004</td>\n",
       "      <td>0.667683</td>\n",
       "      <td>...</td>\n",
       "      <td>-2.581610</td>\n",
       "      <td>-0.440224</td>\n",
       "      <td>0.020637</td>\n",
       "      <td>-0.059357</td>\n",
       "      <td>93.309338</td>\n",
       "      <td>88.963472</td>\n",
       "      <td>76.011128</td>\n",
       "      <td>51.418320</td>\n",
       "      <td>18.420735</td>\n",
       "      <td>3.759779</td>\n",
       "    </tr>\n",
       "    <tr>\n",
       "      <th>144</th>\n",
       "      <td>206.941133</td>\n",
       "      <td>55.878810</td>\n",
       "      <td>54.317202</td>\n",
       "      <td>25.280431</td>\n",
       "      <td>6.312881</td>\n",
       "      <td>1.535573</td>\n",
       "      <td>0.819585</td>\n",
       "      <td>1.070052</td>\n",
       "      <td>1.208973</td>\n",
       "      <td>0.627818</td>\n",
       "      <td>...</td>\n",
       "      <td>0.713725</td>\n",
       "      <td>0.747502</td>\n",
       "      <td>0.043122</td>\n",
       "      <td>-0.077302</td>\n",
       "      <td>89.556146</td>\n",
       "      <td>58.320987</td>\n",
       "      <td>52.762225</td>\n",
       "      <td>40.295235</td>\n",
       "      <td>13.898048</td>\n",
       "      <td>3.978906</td>\n",
       "    </tr>\n",
       "  </tbody>\n",
       "</table>\n",
       "<p>5 rows × 29 columns</p>\n",
       "</div>"
      ],
      "text/plain": [
       "     power_delta  power_theta  power_alpha  power_beta  power_gamma  D6_Ratio  \\\n",
       "357   369.120037   352.542350   219.789014   50.057098    11.317664  1.412244   \n",
       "414   170.272780    91.248519    81.837360   57.813681    16.141807  1.130649   \n",
       "451   179.528459   206.243281   258.537856   83.399922    18.367247  1.389559   \n",
       "142   247.653592   109.859448   109.286705   45.426403    11.268524  1.048850   \n",
       "144   206.941133    55.878810    54.317202   25.280431     6.312881  1.535573   \n",
       "\n",
       "     D5_Ratio  D4_Ratio  D3_Ratio  D2_Ratio  ...   D4_mean   D3_mean  \\\n",
       "357  0.786319  1.622369  0.636899  0.502254  ...  2.521310  1.710888   \n",
       "414  1.031881  0.917942  1.381581  0.663050  ... -6.183026  1.970947   \n",
       "451  0.597221  1.833507  1.008122  0.501076  ... -4.911867  1.762548   \n",
       "142  1.050830  1.082920  1.089004  0.667683  ... -2.581610 -0.440224   \n",
       "144  0.819585  1.070052  1.208973  0.627818  ...  0.713725  0.747502   \n",
       "\n",
       "      D2_mean   D1_mean  D6_mean_abs  D5_mean_abs  D4_mean_abs  D3_mean_abs  \\\n",
       "357 -0.088914 -0.024502   166.075471   117.596905   133.031739    46.400020   \n",
       "414  0.153614 -0.036580    93.072748    82.318008    66.476720    62.520630   \n",
       "451  0.000942  0.027263    88.221607    63.488905   124.392681    72.199336   \n",
       "142  0.020637 -0.059357    93.309338    88.963472    76.011128    51.418320   \n",
       "144  0.043122 -0.077302    89.556146    58.320987    52.762225    40.295235   \n",
       "\n",
       "     D2_mean_abs  D1_mean_abs  \n",
       "357    12.674264     4.069521  \n",
       "414    24.029208     9.960218  \n",
       "451    18.842634     3.009377  \n",
       "142    18.420735     3.759779  \n",
       "144    13.898048     3.978906  \n",
       "\n",
       "[5 rows x 29 columns]"
      ]
     },
     "metadata": {},
     "output_type": "display_data"
    }
   ],
   "source": [
    "display(X.info())\n",
    "display(X.head())"
   ]
  },
  {
   "cell_type": "markdown",
   "metadata": {},
   "source": [
    "# Save the data to a CSV file"
   ]
  },
  {
   "cell_type": "code",
   "execution_count": 98,
   "metadata": {},
   "outputs": [],
   "source": [
    "X_copy = X.copy()\n",
    "X_copy['class'] = y\n",
    "X_copy.to_csv('features.csv', index = False)"
   ]
  },
  {
   "cell_type": "code",
   "execution_count": 99,
   "metadata": {},
   "outputs": [
    {
     "data": {
      "text/plain": [
       "0    400\n",
       "1    100\n",
       "Name: class, dtype: int64"
      ]
     },
     "metadata": {},
     "output_type": "display_data"
    }
   ],
   "source": [
    "display(X_copy['class'].value_counts())"
   ]
  },
  {
   "cell_type": "markdown",
   "metadata": {},
   "source": [
    "# Splitting Data\n",
    "\n",
    "We need to split the data up into an array containing the feature data and an array of the class labels"
   ]
  },
  {
   "cell_type": "code",
   "execution_count": 74,
   "metadata": {},
   "outputs": [],
   "source": [
    "X_ = X_copy.drop('class', axis=1).copy() # use copy to ensure the original data is not modified\n",
    "y_ = X_copy['class'].copy()"
   ]
  },
  {
   "cell_type": "code",
   "execution_count": 101,
   "metadata": {},
   "outputs": [
    {
     "data": {
      "text/plain": [
       "219    0\n",
       "154    0\n",
       "169    0\n",
       "87     0\n",
       "457    1\n",
       "Name: class, dtype: int64"
      ]
     },
     "execution_count": 101,
     "metadata": {},
     "output_type": "execute_result"
    }
   ],
   "source": [
    "y_.tail()"
   ]
  },
  {
   "cell_type": "code",
   "execution_count": 105,
   "metadata": {},
   "outputs": [
    {
     "data": {
      "text/plain": [
       "Text(0.5, 1.0, 'Non-seizure')"
      ]
     },
     "execution_count": 105,
     "metadata": {},
     "output_type": "execute_result"
    },
    {
     "data": {
      "image/png": "[encoded data removed]",
      "text/plain": [
       "<Figure size 1080x360 with 2 Axes>"
      ]
     },
     "metadata": {},
     "output_type": "display_data"
    }
   ],
   "source": [
    "f, (ax1, ax2) = plt.subplots(2, 1, sharex=True, figsize=(15, 5))\n",
    "ax1.plot(df4.iloc[:, 457])\n",
    "ax1.set_title('Seizure')\n",
    "ax2.plot(df4.iloc[:, 169])\n",
    "ax2.set_title('Non-seizure')"
   ]
  },
  {
   "cell_type": "markdown",
   "metadata": {},
   "source": [
    "# 3. split data into train, validation, test"
   ]
  },
  {
   "cell_type": "code",
   "execution_count": 163,
   "metadata": {},
   "outputs": [
    {
     "name": "stdout",
     "output_type": "stream",
     "text": [
      "Feature DataFrame\n",
      "Training size: (320, 29)\n",
      "Validation size: (80, 29)\n",
      "Test size: (100, 29)\n",
      "\n",
      "Target DataFrame\n",
      "Training size: (320, 1)\n",
      "Validation size: (80, 1)\n",
      "Test size: (100, 1)\n"
     ]
    }
   ],
   "source": [
    "from sklearn.model_selection import train_test_split\n",
    "TEST_SIZE = 0.2\n",
    "\n",
    "X_train, X_test, y_train, y_test = train_test_split(X, y, \n",
    "                                                    test_size=TEST_SIZE, \n",
    "                                                    random_state=47, \n",
    "                                                    stratify=y)\n",
    "\n",
    "X_train, X_val, y_train, y_val = train_test_split(X_train, y_train, \n",
    "                                                  test_size=TEST_SIZE, \n",
    "                                                  stratify=y_train,\n",
    "                                                  random_state=47)\n",
    "\n",
    "print('Feature DataFrame')\n",
    "print('Training size: ' + str(X_train.shape))\n",
    "print('Validation size: ' + str(X_val.shape))\n",
    "print('Test size: ' + str(X_test.shape))\n",
    "print('\\nTarget DataFrame')\n",
    "print('Training size: ' + str(y_train.shape))\n",
    "print('Validation size: ' + str(y_val.shape))\n",
    "print('Test size: ' + str(y_test.shape))"
   ]
  },
  {
   "cell_type": "markdown",
   "metadata": {},
   "source": [
    "### Lets just check that the proportions of a class membership is in the split data (1st column being class label and 2nd being count)"
   ]
  },
  {
   "cell_type": "code",
   "execution_count": 79,
   "metadata": {},
   "outputs": [],
   "source": [
    "def get_proportions(data):\n",
    "\n",
    "    counts = pd.DataFrame(np.unique(data, return_counts=True), index = ['Class_ID', 'Counts']).T\n",
    "    counts['Percent'] = (counts['Counts']/counts['Counts'].sum()).round(2)*100\n",
    "    counts = counts.set_index('Class_ID')\n",
    "    return counts\n"
   ]
  },
  {
   "cell_type": "code",
   "execution_count": 118,
   "metadata": {},
   "outputs": [
    {
     "data": {
      "text/html": [
       "<div>\n",
       "<style scoped>\n",
       "    .dataframe tbody tr th:only-of-type {\n",
       "        vertical-align: middle;\n",
       "    }\n",
       "\n",
       "    .dataframe tbody tr th {\n",
       "        vertical-align: top;\n",
       "    }\n",
       "\n",
       "    .dataframe thead th {\n",
       "        text-align: right;\n",
       "    }\n",
       "</style>\n",
       "<table border=\"1\" class=\"dataframe\">\n",
       "  <thead>\n",
       "    <tr style=\"text-align: right;\">\n",
       "      <th></th>\n",
       "      <th>Counts</th>\n",
       "      <th>Percent</th>\n",
       "    </tr>\n",
       "    <tr>\n",
       "      <th>Class_ID</th>\n",
       "      <th></th>\n",
       "      <th></th>\n",
       "    </tr>\n",
       "  </thead>\n",
       "  <tbody>\n",
       "    <tr>\n",
       "      <th>0</th>\n",
       "      <td>256</td>\n",
       "      <td>80.0</td>\n",
       "    </tr>\n",
       "    <tr>\n",
       "      <th>1</th>\n",
       "      <td>64</td>\n",
       "      <td>20.0</td>\n",
       "    </tr>\n",
       "  </tbody>\n",
       "</table>\n",
       "</div>"
      ],
      "text/plain": [
       "          Counts  Percent\n",
       "Class_ID                 \n",
       "0            256     80.0\n",
       "1             64     20.0"
      ]
     },
     "metadata": {},
     "output_type": "display_data"
    },
    {
     "data": {
      "text/html": [
       "<div>\n",
       "<style scoped>\n",
       "    .dataframe tbody tr th:only-of-type {\n",
       "        vertical-align: middle;\n",
       "    }\n",
       "\n",
       "    .dataframe tbody tr th {\n",
       "        vertical-align: top;\n",
       "    }\n",
       "\n",
       "    .dataframe thead th {\n",
       "        text-align: right;\n",
       "    }\n",
       "</style>\n",
       "<table border=\"1\" class=\"dataframe\">\n",
       "  <thead>\n",
       "    <tr style=\"text-align: right;\">\n",
       "      <th></th>\n",
       "      <th>Counts</th>\n",
       "      <th>Percent</th>\n",
       "    </tr>\n",
       "    <tr>\n",
       "      <th>Class_ID</th>\n",
       "      <th></th>\n",
       "      <th></th>\n",
       "    </tr>\n",
       "  </thead>\n",
       "  <tbody>\n",
       "    <tr>\n",
       "      <th>0</th>\n",
       "      <td>64</td>\n",
       "      <td>80.0</td>\n",
       "    </tr>\n",
       "    <tr>\n",
       "      <th>1</th>\n",
       "      <td>16</td>\n",
       "      <td>20.0</td>\n",
       "    </tr>\n",
       "  </tbody>\n",
       "</table>\n",
       "</div>"
      ],
      "text/plain": [
       "          Counts  Percent\n",
       "Class_ID                 \n",
       "0             64     80.0\n",
       "1             16     20.0"
      ]
     },
     "metadata": {},
     "output_type": "display_data"
    },
    {
     "data": {
      "text/html": [
       "<div>\n",
       "<style scoped>\n",
       "    .dataframe tbody tr th:only-of-type {\n",
       "        vertical-align: middle;\n",
       "    }\n",
       "\n",
       "    .dataframe tbody tr th {\n",
       "        vertical-align: top;\n",
       "    }\n",
       "\n",
       "    .dataframe thead th {\n",
       "        text-align: right;\n",
       "    }\n",
       "</style>\n",
       "<table border=\"1\" class=\"dataframe\">\n",
       "  <thead>\n",
       "    <tr style=\"text-align: right;\">\n",
       "      <th></th>\n",
       "      <th>Counts</th>\n",
       "      <th>Percent</th>\n",
       "    </tr>\n",
       "    <tr>\n",
       "      <th>Class_ID</th>\n",
       "      <th></th>\n",
       "      <th></th>\n",
       "    </tr>\n",
       "  </thead>\n",
       "  <tbody>\n",
       "    <tr>\n",
       "      <th>0</th>\n",
       "      <td>80</td>\n",
       "      <td>80.0</td>\n",
       "    </tr>\n",
       "    <tr>\n",
       "      <th>1</th>\n",
       "      <td>20</td>\n",
       "      <td>20.0</td>\n",
       "    </tr>\n",
       "  </tbody>\n",
       "</table>\n",
       "</div>"
      ],
      "text/plain": [
       "          Counts  Percent\n",
       "Class_ID                 \n",
       "0             80     80.0\n",
       "1             20     20.0"
      ]
     },
     "metadata": {},
     "output_type": "display_data"
    }
   ],
   "source": [
    "display(get_proportions(y_train))\n",
    "display(get_proportions(y_val))\n",
    "display(get_proportions(y_test))"
   ]
  },
  {
   "cell_type": "markdown",
   "metadata": {},
   "source": [
    "we have the same ratios of classes in train and test because we split the data by stratifying on y "
   ]
  },
  {
   "cell_type": "markdown",
   "metadata": {},
   "source": [
    "### Standarize the X_train by fitting a StandardScaler"
   ]
  },
  {
   "cell_type": "code",
   "execution_count": 125,
   "metadata": {},
   "outputs": [],
   "source": [
    "from sklearn.preprocessing import StandardScaler\n",
    "\n",
    "scaler = StandardScaler()\n",
    "X_train_scale = scaler.fit_transform(X_train)\n"
   ]
  },
  {
   "cell_type": "markdown",
   "metadata": {},
   "source": [
    "# Lets plot two features against one another for the two classes"
   ]
  },
  {
   "cell_type": "code",
   "execution_count": 126,
   "metadata": {},
   "outputs": [
    {
     "data": {
      "text/html": [
       "<div>\n",
       "<style scoped>\n",
       "    .dataframe tbody tr th:only-of-type {\n",
       "        vertical-align: middle;\n",
       "    }\n",
       "\n",
       "    .dataframe tbody tr th {\n",
       "        vertical-align: top;\n",
       "    }\n",
       "\n",
       "    .dataframe thead th {\n",
       "        text-align: right;\n",
       "    }\n",
       "</style>\n",
       "<table border=\"1\" class=\"dataframe\">\n",
       "  <thead>\n",
       "    <tr style=\"text-align: right;\">\n",
       "      <th></th>\n",
       "      <th>D3_Ratio</th>\n",
       "      <th>D4_Ratio</th>\n",
       "    </tr>\n",
       "  </thead>\n",
       "  <tbody>\n",
       "    <tr>\n",
       "      <th>0</th>\n",
       "      <td>-0.636941</td>\n",
       "      <td>-0.992380</td>\n",
       "    </tr>\n",
       "    <tr>\n",
       "      <th>1</th>\n",
       "      <td>-0.023182</td>\n",
       "      <td>2.705587</td>\n",
       "    </tr>\n",
       "    <tr>\n",
       "      <th>2</th>\n",
       "      <td>-0.978885</td>\n",
       "      <td>-0.631837</td>\n",
       "    </tr>\n",
       "    <tr>\n",
       "      <th>3</th>\n",
       "      <td>0.418123</td>\n",
       "      <td>-0.648436</td>\n",
       "    </tr>\n",
       "    <tr>\n",
       "      <th>4</th>\n",
       "      <td>-0.576419</td>\n",
       "      <td>-0.925091</td>\n",
       "    </tr>\n",
       "  </tbody>\n",
       "</table>\n",
       "</div>"
      ],
      "text/plain": [
       "   D3_Ratio  D4_Ratio\n",
       "0 -0.636941 -0.992380\n",
       "1 -0.023182  2.705587\n",
       "2 -0.978885 -0.631837\n",
       "3  0.418123 -0.648436\n",
       "4 -0.576419 -0.925091"
      ]
     },
     "execution_count": 126,
     "metadata": {},
     "output_type": "execute_result"
    }
   ],
   "source": [
    "from sklearn.preprocessing import LabelEncoder\n",
    "\n",
    "# make a label encoder\n",
    "le = LabelEncoder()\n",
    "\n",
    "feature_reduced_drop = X_copy.drop(['class'], axis='columns')\n",
    "# change to an array\n",
    "data_x = feature_reduced_drop.values\n",
    "# change the string labels to ints\n",
    "data_y = le.fit_transform(X_copy['class'])\n",
    "\n",
    "feature_list = list(feature_reduced_drop.columns)\n",
    "\n",
    "x_axis_label = 'D3_Ratio'\n",
    "y_axis_label = 'D4_Ratio'\n",
    "\n",
    "reduced_array = X_train_scale[:,[feature_list.index(x_axis_label),feature_list.index(y_axis_label)]]\n",
    "reduced_df = pd.DataFrame(reduced_array, columns=[x_axis_label, y_axis_label])\n",
    "\n",
    "reduced_df.head()"
   ]
  },
  {
   "cell_type": "markdown",
   "metadata": {},
   "source": [
    "# plot the data"
   ]
  },
  {
   "cell_type": "code",
   "execution_count": 127,
   "metadata": {},
   "outputs": [
    {
     "data": {
      "image/png": "[encoded data removed]",
      "text/plain": [
       "<Figure size 441.85x360 with 6 Axes>"
      ]
     },
     "metadata": {},
     "output_type": "display_data"
    }
   ],
   "source": [
    "import seaborn as sns; sns.set(color_codes=True)\n",
    "\n",
    "def plot_pairplot(data_x, data_y):\n",
    "\n",
    "    data_plot = data_x.copy()\n",
    "    data_plot['class'] = np.vectorize({0:'Baseline', 1:'Seizure'}.get)(data_y)\n",
    "    sns.pairplot(data_plot, \n",
    "                 hue = 'class', \n",
    "                 hue_order = ['Baseline','Seizure'],\n",
    "                 markers=[\"o\", \"s\"], \n",
    "                 plot_kws=dict(alpha = 0.5))\n",
    "    plt.show()\n",
    "    \n",
    "plot_pairplot(reduced_df, y_train)"
   ]
  },
  {
   "cell_type": "markdown",
   "metadata": {},
   "source": [
    "# 4. Modeling \n",
    "\n",
    "### logistic regression\n",
    "Logistic regression is a linear model for classification of a dependent variable which has a limited number of possible values. Logistic regression is a probabilistic model, using an odds ratio to determine the probability of the categorisation of an event. In binary classification, if the estimated probability is greater than 50% then the instance is predicted to be the positive class, otherwise the negative class is predicted.\n",
    "\n",
    "Lets first see how we would fit a Logistic Regression model to our data"
   ]
  },
  {
   "cell_type": "code",
   "execution_count": 128,
   "metadata": {},
   "outputs": [],
   "source": [
    "y_train = y_train.ravel()\n",
    "y_val = y_val.ravel()\n",
    "y_test = y_test.ravel()"
   ]
  },
  {
   "cell_type": "code",
   "execution_count": 129,
   "metadata": {},
   "outputs": [
    {
     "data": {
      "text/plain": [
       "Pipeline(memory=None,\n",
       "         steps=[('scl',\n",
       "                 StandardScaler(copy=True, with_mean=True, with_std=True)),\n",
       "                ('clf',\n",
       "                 LogisticRegression(C=100, class_weight='balanced', dual=False,\n",
       "                                    fit_intercept=True, intercept_scaling=1,\n",
       "                                    l1_ratio=None, max_iter=100,\n",
       "                                    multi_class='auto', n_jobs=None,\n",
       "                                    penalty='l2', random_state=47,\n",
       "                                    solver='liblinear', tol=0.0001, verbose=0,\n",
       "                                    warm_start=False))],\n",
       "         verbose=False)"
      ]
     },
     "execution_count": 129,
     "metadata": {},
     "output_type": "execute_result"
    }
   ],
   "source": [
    "from sklearn.linear_model import LogisticRegression\n",
    "\n",
    "from sklearn.pipeline import Pipeline\n",
    "\n",
    "pipe_reg = Pipeline([('scl', StandardScaler()),\n",
    "                     ('clf', LogisticRegression(C=100, \n",
    "                                                solver='liblinear',\n",
    "                                                class_weight='balanced',\n",
    "                                                random_state=47))])\n",
    "\n",
    "pipe_reg"
   ]
  },
  {
   "cell_type": "code",
   "execution_count": 133,
   "metadata": {},
   "outputs": [
    {
     "name": "stdout",
     "output_type": "stream",
     "text": [
      "Validation Accuracy: 0.963\n"
     ]
    }
   ],
   "source": [
    "pipe_reg.fit(X_train, y_train)\n",
    "print('Validation Accuracy: %.3f' % pipe_reg.score(X_val, y_val))"
   ]
  },
  {
   "cell_type": "code",
   "execution_count": 134,
   "metadata": {},
   "outputs": [
    {
     "data": {
      "text/plain": [
       "array([0, 0, 0, 0, 0, 0, 1, 0, 0, 0, 0, 0, 0, 1, 0, 1, 1, 0, 0, 0, 0, 0,\n",
       "       1, 0, 1, 0, 0, 1, 0, 1, 0, 1, 0, 0, 1, 0, 0, 0, 0, 1, 0, 0, 0, 1,\n",
       "       0, 1, 0, 0, 0, 0, 0, 0, 0, 0, 0, 1, 0, 0, 1, 0, 1, 0, 0, 0, 0, 0,\n",
       "       1, 1, 1, 0, 0, 0, 0, 0, 0, 0, 0, 0, 0, 0])"
      ]
     },
     "execution_count": 134,
     "metadata": {},
     "output_type": "execute_result"
    }
   ],
   "source": [
    "log_predicted = pipe_reg.predict(X_val)\n",
    "log_predicted"
   ]
  },
  {
   "cell_type": "code",
   "execution_count": 135,
   "metadata": {},
   "outputs": [
    {
     "data": {
      "text/plain": [
       "array([0, 0, 0, 0, 0, 0, 0, 0, 0, 0, 0, 0, 0, 0, 0, 1, 1, 0, 0, 0, 0, 0,\n",
       "       1, 0, 1, 0, 0, 1, 0, 1, 0, 1, 0, 0, 1, 0, 0, 0, 0, 1, 0, 0, 0, 1,\n",
       "       0, 1, 0, 0, 0, 0, 0, 0, 0, 0, 0, 1, 0, 0, 1, 0, 1, 0, 0, 0, 0, 0,\n",
       "       0, 1, 1, 0, 0, 0, 0, 0, 0, 0, 0, 0, 0, 0])"
      ]
     },
     "execution_count": 135,
     "metadata": {},
     "output_type": "execute_result"
    }
   ],
   "source": [
    "y_val"
   ]
  },
  {
   "cell_type": "markdown",
   "metadata": {},
   "source": [
    "## Compare different models using some useful metrics beyond accuracy"
   ]
  },
  {
   "cell_type": "code",
   "execution_count": 136,
   "metadata": {},
   "outputs": [],
   "source": [
    "from sklearn.pipeline import Pipeline\n",
    "from sklearn.preprocessing import StandardScaler\n",
    "from sklearn.linear_model import LogisticRegression\n",
    "from sklearn.svm import SVC\n",
    "from sklearn.tree import DecisionTreeClassifier\n",
    "from sklearn.neighbors import KNeighborsClassifier\n",
    "from sklearn.ensemble import RandomForestClassifier\n",
    "import xgboost as xgb\n",
    "from sklearn.model_selection import cross_val_score\n",
    "from sklearn.model_selection import StratifiedKFold\n",
    "\n",
    "\n",
    "RANDOM_STATE=47\n",
    "\n",
    "# Logistic Regression\n",
    "pipe_reg = Pipeline([('scl', StandardScaler()),\n",
    "                     ('clf', LogisticRegression(class_weight='balanced',\n",
    "                                                solver = 'liblinear',\n",
    "                                                random_state=RANDOM_STATE))])\n",
    "\n",
    "# Support Vector Machine\n",
    "pipe_svc = Pipeline([('scl', StandardScaler()),\n",
    "                    ('clf', SVC(kernel='rbf', \n",
    "                                class_weight = 'balanced',\n",
    "                                probability=True,\n",
    "                                random_state=RANDOM_STATE))])\n",
    "\n",
    "# Decision Tree\n",
    "DT = DecisionTreeClassifier(random_state=RANDOM_STATE, \n",
    "                            class_weight = 'balanced')\n",
    "\n",
    "# Random Forest\n",
    "rt = RandomForestClassifier(random_state=RANDOM_STATE, \n",
    "                            class_weight = 'balanced')\n",
    "\n",
    "\n",
    "# K-Nearest Neighbours\n",
    "pipe_kkn = Pipeline([('scl', StandardScaler()),\n",
    "                    ('clf', KNeighborsClassifier())])\n",
    "\n",
    "# list of classifier names\n",
    "classifier_names = ['Logistic Regression', 'Support Vector Machine', \n",
    "                    'Decision Tree', 'Random Forest', 'K-Nearest Neighbors',\n",
    "                   'XGBoost']\n",
    "\n",
    "# list of classifiers\n",
    "classifiers = [pipe_reg, pipe_svc, DT, rt, pipe_kkn]\n",
    "\n",
    "# fit all the classifiers to the training data\n",
    "for classifier in classifiers:\n",
    "    classifier.fit(X_train, y_train)"
   ]
  },
  {
   "cell_type": "markdown",
   "metadata": {},
   "source": [
    "## show confusion matrix"
   ]
  },
  {
   "cell_type": "code",
   "execution_count": 137,
   "metadata": {},
   "outputs": [],
   "source": [
    "from sklearn.metrics import confusion_matrix\n",
    "from sklearn.metrics import plot_confusion_matrix"
   ]
  },
  {
   "cell_type": "code",
   "execution_count": 138,
   "metadata": {},
   "outputs": [
    {
     "data": {
      "text/plain": [
       "array([[58,  6],\n",
       "       [ 0, 16]])"
      ]
     },
     "execution_count": 138,
     "metadata": {},
     "output_type": "execute_result"
    }
   ],
   "source": [
    "# evaluate logistic regression  \n",
    "predictions = classifiers[0].predict(X_val)\n",
    "\n",
    "confmat = confusion_matrix(y_true=y_val, y_pred=predictions)\n",
    "confmat"
   ]
  },
  {
   "cell_type": "code",
   "execution_count": 139,
   "metadata": {},
   "outputs": [
    {
     "name": "stdout",
     "output_type": "stream",
     "text": [
      "[[58  6]\n",
      " [ 0 16]]\n"
     ]
    },
    {
     "data": {
      "image/png": "[encoded data removed]",
      "text/plain": [
       "<Figure size 432x288 with 2 Axes>"
      ]
     },
     "metadata": {},
     "output_type": "display_data"
    }
   ],
   "source": [
    "from sklearn.metrics import plot_confusion_matrix\n",
    "disp = plot_confusion_matrix(pipe_reg, X_val, y_val,\n",
    "                                 display_labels=['baseline', 'Seizure'],\n",
    "                                 cmap=plt.cm.Blues)\n",
    "print(disp.confusion_matrix)"
   ]
  },
  {
   "cell_type": "markdown",
   "metadata": {},
   "source": [
    "# Calculate recall and precision"
   ]
  },
  {
   "cell_type": "markdown",
   "metadata": {},
   "source": [
    "Using the confusion matrix we can manuall work out a number of different performance metrics"
   ]
  },
  {
   "cell_type": "markdown",
   "metadata": {},
   "source": [
    "## Error and Accuracy\n",
    "\n",
    "Give general performance information regarding the number of all correct or false predictions comparative to the total number of predictions for both the positive and negative labels.\n",
    "\n",
    "## Recall (or True Positive Rate)\n",
    "\n",
    "Calculates how many of the actual positives our model correctly or incorrectly labelled. This is useful when the fraction of correctly or misclassified samples in the positive class are of interest.\n",
    "\n",
    "## Precision (PRE)\n",
    "\n",
    "Precision gives information on how precise your model is by looking at how many positive predicted labels are actually positive. To calculate it you just take the true positives and divide it by the total true and false positives. Precision is a good measure to determine, when the costs of a False Positive is high.\n",
    "\n",
    "## F1-score\n",
    "\n",
    "F1-score is a combination of Recall and Precision used when there is an uneven class distribution due to a large number of Actual Negatives that you are not as focused on.\n"
   ]
  },
  {
   "cell_type": "markdown",
   "metadata": {},
   "source": [
    "Different metrics maybe more appropriate depending on the application. For example, the priority may be to identify seizures and not as much on correctly identifying inter-ictal periods, therefore recall would be a better metic to look at. "
   ]
  },
  {
   "cell_type": "code",
   "execution_count": 140,
   "metadata": {},
   "outputs": [
    {
     "name": "stdout",
     "output_type": "stream",
     "text": [
      "True positive rate (TPR): 1.000\n",
      "False positive rate (FPR): 0.094\n",
      "Error (ERR): 0.075\n",
      "\n",
      "Accuracy (ACC): 0.925\n",
      "Precision (PRE): 0.727\n",
      "Recall (REC): 1.000\n",
      "F1-score (F1): 0.842\n"
     ]
    }
   ],
   "source": [
    "FP = confmat[0,1]\n",
    "TN = confmat[0,0]\n",
    "TP = confmat[1,1]\n",
    "FN = confmat[1,0]\n",
    "\n",
    "ERR = (FP+FN)/(FP+FN+TP+TN)\n",
    "ACC = 1-ERR\n",
    "TPR = TP/(FN+TP)\n",
    "FPR = FP/(FP+TN)\n",
    "PRE = TP/(TP+FP)\n",
    "REC = TP/(FN+TP)\n",
    "F1 = 2*((PRE*REC)/(PRE+REC))\n",
    "\n",
    "print('True positive rate (TPR): %.3f' % TPR)\n",
    "print('False positive rate (FPR): %.3f' % FPR)\n",
    "print('Error (ERR): %.3f' % ERR)\n",
    "print()\n",
    "print('Accuracy (ACC): %.3f' % ACC)\n",
    "print('Precision (PRE): %.3f' % PRE)\n",
    "print('Recall (REC): %.3f' % REC)\n",
    "print('F1-score (F1): %.3f' % F1)"
   ]
  },
  {
   "cell_type": "markdown",
   "metadata": {},
   "source": [
    "# Sklearn can calculate these metrics for us"
   ]
  },
  {
   "cell_type": "code",
   "execution_count": 141,
   "metadata": {},
   "outputs": [
    {
     "name": "stdout",
     "output_type": "stream",
     "text": [
      "Accuracy (ACC): 0.925\n",
      "Precision (PRE): 0.727\n",
      "Recall (REC): 1.000\n",
      "F1-score (F1): 0.842\n"
     ]
    }
   ],
   "source": [
    "from sklearn.metrics import precision_score, recall_score, f1_score\n",
    "from sklearn.metrics import accuracy_score\n",
    "\n",
    "print('Accuracy (ACC): %.3f' % accuracy_score(y_true=y_val, y_pred=predictions))\n",
    "print('Precision (PRE): %.3f' % precision_score(y_true=y_val, y_pred=predictions))\n",
    "print('Recall (REC): %.3f' % recall_score(y_true=y_val, y_pred=predictions))\n",
    "print('F1-score (F1): %.3f' % f1_score(y_true=y_val, y_pred=predictions))"
   ]
  },
  {
   "cell_type": "code",
   "execution_count": 38,
   "metadata": {},
   "outputs": [
    {
     "data": {
      "text/html": [
       "<div>\n",
       "<style scoped>\n",
       "    .dataframe tbody tr th:only-of-type {\n",
       "        vertical-align: middle;\n",
       "    }\n",
       "\n",
       "    .dataframe tbody tr th {\n",
       "        vertical-align: top;\n",
       "    }\n",
       "\n",
       "    .dataframe thead th {\n",
       "        text-align: right;\n",
       "    }\n",
       "</style>\n",
       "<table border=\"1\" class=\"dataframe\">\n",
       "  <thead>\n",
       "    <tr style=\"text-align: right;\">\n",
       "      <th></th>\n",
       "      <th>Baseline</th>\n",
       "      <th>Seizure</th>\n",
       "      <th>accuracy</th>\n",
       "      <th>macro avg</th>\n",
       "      <th>weighted avg</th>\n",
       "    </tr>\n",
       "  </thead>\n",
       "  <tbody>\n",
       "    <tr>\n",
       "      <th>precision</th>\n",
       "      <td>1.00000</td>\n",
       "      <td>0.727273</td>\n",
       "      <td>0.925</td>\n",
       "      <td>0.863636</td>\n",
       "      <td>0.945455</td>\n",
       "    </tr>\n",
       "    <tr>\n",
       "      <th>recall</th>\n",
       "      <td>0.90625</td>\n",
       "      <td>1.000000</td>\n",
       "      <td>0.925</td>\n",
       "      <td>0.953125</td>\n",
       "      <td>0.925000</td>\n",
       "    </tr>\n",
       "    <tr>\n",
       "      <th>f1-score</th>\n",
       "      <td>0.95082</td>\n",
       "      <td>0.842105</td>\n",
       "      <td>0.925</td>\n",
       "      <td>0.896462</td>\n",
       "      <td>0.929077</td>\n",
       "    </tr>\n",
       "    <tr>\n",
       "      <th>support</th>\n",
       "      <td>64.00000</td>\n",
       "      <td>16.000000</td>\n",
       "      <td>0.925</td>\n",
       "      <td>80.000000</td>\n",
       "      <td>80.000000</td>\n",
       "    </tr>\n",
       "  </tbody>\n",
       "</table>\n",
       "</div>"
      ],
      "text/plain": [
       "           Baseline    Seizure  accuracy  macro avg  weighted avg\n",
       "precision   1.00000   0.727273     0.925   0.863636      0.945455\n",
       "recall      0.90625   1.000000     0.925   0.953125      0.925000\n",
       "f1-score    0.95082   0.842105     0.925   0.896462      0.929077\n",
       "support    64.00000  16.000000     0.925  80.000000     80.000000"
      ]
     },
     "execution_count": 38,
     "metadata": {},
     "output_type": "execute_result"
    }
   ],
   "source": [
    "from sklearn.metrics import classification_report\n",
    "\n",
    "pd.DataFrame(classification_report(y_val, \n",
    "                                   predictions, \n",
    "                                   labels=None, \n",
    "                                   target_names=['Baseline', 'Seizure'], \n",
    "                                   sample_weight=None, \n",
    "                                   digits=2, \n",
    "                                   output_dict=True))"
   ]
  },
  {
   "cell_type": "markdown",
   "metadata": {},
   "source": [
    "# combine the metrics for all models into one big dataframe"
   ]
  },
  {
   "cell_type": "code",
   "execution_count": 142,
   "metadata": {},
   "outputs": [
    {
     "data": {
      "text/html": [
       "<div>\n",
       "<style scoped>\n",
       "    .dataframe tbody tr th:only-of-type {\n",
       "        vertical-align: middle;\n",
       "    }\n",
       "\n",
       "    .dataframe tbody tr th {\n",
       "        vertical-align: top;\n",
       "    }\n",
       "\n",
       "    .dataframe thead th {\n",
       "        text-align: right;\n",
       "    }\n",
       "</style>\n",
       "<table border=\"1\" class=\"dataframe\">\n",
       "  <thead>\n",
       "    <tr style=\"text-align: right;\">\n",
       "      <th></th>\n",
       "      <th></th>\n",
       "      <th>Baseline</th>\n",
       "      <th>Seizure</th>\n",
       "      <th>accuracy</th>\n",
       "      <th>macro avg</th>\n",
       "      <th>weighted avg</th>\n",
       "    </tr>\n",
       "    <tr>\n",
       "      <th>Metric</th>\n",
       "      <th>Classifier</th>\n",
       "      <th></th>\n",
       "      <th></th>\n",
       "      <th></th>\n",
       "      <th></th>\n",
       "      <th></th>\n",
       "    </tr>\n",
       "  </thead>\n",
       "  <tbody>\n",
       "    <tr>\n",
       "      <th rowspan=\"5\" valign=\"top\">f1-score</th>\n",
       "      <th>Decision Tree</th>\n",
       "      <td>0.960630</td>\n",
       "      <td>0.848485</td>\n",
       "      <td>0.9375</td>\n",
       "      <td>0.904557</td>\n",
       "      <td>0.938201</td>\n",
       "    </tr>\n",
       "    <tr>\n",
       "      <th>K-Nearest Neighbors</th>\n",
       "      <td>0.946565</td>\n",
       "      <td>0.758621</td>\n",
       "      <td>0.9125</td>\n",
       "      <td>0.852593</td>\n",
       "      <td>0.908976</td>\n",
       "    </tr>\n",
       "    <tr>\n",
       "      <th>Logistic Regression</th>\n",
       "      <td>0.950820</td>\n",
       "      <td>0.842105</td>\n",
       "      <td>0.9250</td>\n",
       "      <td>0.896462</td>\n",
       "      <td>0.929077</td>\n",
       "    </tr>\n",
       "    <tr>\n",
       "      <th>Random Forest</th>\n",
       "      <td>0.953846</td>\n",
       "      <td>0.800000</td>\n",
       "      <td>0.9250</td>\n",
       "      <td>0.876923</td>\n",
       "      <td>0.923077</td>\n",
       "    </tr>\n",
       "    <tr>\n",
       "      <th>Support Vector Machine</th>\n",
       "      <td>0.942149</td>\n",
       "      <td>0.820513</td>\n",
       "      <td>0.9125</td>\n",
       "      <td>0.881331</td>\n",
       "      <td>0.917822</td>\n",
       "    </tr>\n",
       "    <tr>\n",
       "      <th rowspan=\"5\" valign=\"top\">precision</th>\n",
       "      <th>Decision Tree</th>\n",
       "      <td>0.968254</td>\n",
       "      <td>0.823529</td>\n",
       "      <td>0.9375</td>\n",
       "      <td>0.895892</td>\n",
       "      <td>0.939309</td>\n",
       "    </tr>\n",
       "    <tr>\n",
       "      <th>K-Nearest Neighbors</th>\n",
       "      <td>0.925373</td>\n",
       "      <td>0.846154</td>\n",
       "      <td>0.9125</td>\n",
       "      <td>0.885763</td>\n",
       "      <td>0.909529</td>\n",
       "    </tr>\n",
       "    <tr>\n",
       "      <th>Logistic Regression</th>\n",
       "      <td>1.000000</td>\n",
       "      <td>0.727273</td>\n",
       "      <td>0.9250</td>\n",
       "      <td>0.863636</td>\n",
       "      <td>0.945455</td>\n",
       "    </tr>\n",
       "    <tr>\n",
       "      <th>Random Forest</th>\n",
       "      <td>0.939394</td>\n",
       "      <td>0.857143</td>\n",
       "      <td>0.9250</td>\n",
       "      <td>0.898268</td>\n",
       "      <td>0.922944</td>\n",
       "    </tr>\n",
       "    <tr>\n",
       "      <th>Support Vector Machine</th>\n",
       "      <td>1.000000</td>\n",
       "      <td>0.695652</td>\n",
       "      <td>0.9125</td>\n",
       "      <td>0.847826</td>\n",
       "      <td>0.939130</td>\n",
       "    </tr>\n",
       "    <tr>\n",
       "      <th rowspan=\"5\" valign=\"top\">recall</th>\n",
       "      <th>Decision Tree</th>\n",
       "      <td>0.953125</td>\n",
       "      <td>0.875000</td>\n",
       "      <td>0.9375</td>\n",
       "      <td>0.914062</td>\n",
       "      <td>0.937500</td>\n",
       "    </tr>\n",
       "    <tr>\n",
       "      <th>K-Nearest Neighbors</th>\n",
       "      <td>0.968750</td>\n",
       "      <td>0.687500</td>\n",
       "      <td>0.9125</td>\n",
       "      <td>0.828125</td>\n",
       "      <td>0.912500</td>\n",
       "    </tr>\n",
       "    <tr>\n",
       "      <th>Logistic Regression</th>\n",
       "      <td>0.906250</td>\n",
       "      <td>1.000000</td>\n",
       "      <td>0.9250</td>\n",
       "      <td>0.953125</td>\n",
       "      <td>0.925000</td>\n",
       "    </tr>\n",
       "    <tr>\n",
       "      <th>Random Forest</th>\n",
       "      <td>0.968750</td>\n",
       "      <td>0.750000</td>\n",
       "      <td>0.9250</td>\n",
       "      <td>0.859375</td>\n",
       "      <td>0.925000</td>\n",
       "    </tr>\n",
       "    <tr>\n",
       "      <th>Support Vector Machine</th>\n",
       "      <td>0.890625</td>\n",
       "      <td>1.000000</td>\n",
       "      <td>0.9125</td>\n",
       "      <td>0.945312</td>\n",
       "      <td>0.912500</td>\n",
       "    </tr>\n",
       "    <tr>\n",
       "      <th rowspan=\"5\" valign=\"top\">support</th>\n",
       "      <th>Decision Tree</th>\n",
       "      <td>64.000000</td>\n",
       "      <td>16.000000</td>\n",
       "      <td>0.9375</td>\n",
       "      <td>80.000000</td>\n",
       "      <td>80.000000</td>\n",
       "    </tr>\n",
       "    <tr>\n",
       "      <th>K-Nearest Neighbors</th>\n",
       "      <td>64.000000</td>\n",
       "      <td>16.000000</td>\n",
       "      <td>0.9125</td>\n",
       "      <td>80.000000</td>\n",
       "      <td>80.000000</td>\n",
       "    </tr>\n",
       "    <tr>\n",
       "      <th>Logistic Regression</th>\n",
       "      <td>64.000000</td>\n",
       "      <td>16.000000</td>\n",
       "      <td>0.9250</td>\n",
       "      <td>80.000000</td>\n",
       "      <td>80.000000</td>\n",
       "    </tr>\n",
       "    <tr>\n",
       "      <th>Random Forest</th>\n",
       "      <td>64.000000</td>\n",
       "      <td>16.000000</td>\n",
       "      <td>0.9250</td>\n",
       "      <td>80.000000</td>\n",
       "      <td>80.000000</td>\n",
       "    </tr>\n",
       "    <tr>\n",
       "      <th>Support Vector Machine</th>\n",
       "      <td>64.000000</td>\n",
       "      <td>16.000000</td>\n",
       "      <td>0.9125</td>\n",
       "      <td>80.000000</td>\n",
       "      <td>80.000000</td>\n",
       "    </tr>\n",
       "  </tbody>\n",
       "</table>\n",
       "</div>"
      ],
      "text/plain": [
       "                                   Baseline    Seizure  accuracy  macro avg  \\\n",
       "Metric    Classifier                                                          \n",
       "f1-score  Decision Tree            0.960630   0.848485    0.9375   0.904557   \n",
       "          K-Nearest Neighbors      0.946565   0.758621    0.9125   0.852593   \n",
       "          Logistic Regression      0.950820   0.842105    0.9250   0.896462   \n",
       "          Random Forest            0.953846   0.800000    0.9250   0.876923   \n",
       "          Support Vector Machine   0.942149   0.820513    0.9125   0.881331   \n",
       "precision Decision Tree            0.968254   0.823529    0.9375   0.895892   \n",
       "          K-Nearest Neighbors      0.925373   0.846154    0.9125   0.885763   \n",
       "          Logistic Regression      1.000000   0.727273    0.9250   0.863636   \n",
       "          Random Forest            0.939394   0.857143    0.9250   0.898268   \n",
       "          Support Vector Machine   1.000000   0.695652    0.9125   0.847826   \n",
       "recall    Decision Tree            0.953125   0.875000    0.9375   0.914062   \n",
       "          K-Nearest Neighbors      0.968750   0.687500    0.9125   0.828125   \n",
       "          Logistic Regression      0.906250   1.000000    0.9250   0.953125   \n",
       "          Random Forest            0.968750   0.750000    0.9250   0.859375   \n",
       "          Support Vector Machine   0.890625   1.000000    0.9125   0.945312   \n",
       "support   Decision Tree           64.000000  16.000000    0.9375  80.000000   \n",
       "          K-Nearest Neighbors     64.000000  16.000000    0.9125  80.000000   \n",
       "          Logistic Regression     64.000000  16.000000    0.9250  80.000000   \n",
       "          Random Forest           64.000000  16.000000    0.9250  80.000000   \n",
       "          Support Vector Machine  64.000000  16.000000    0.9125  80.000000   \n",
       "\n",
       "                                  weighted avg  \n",
       "Metric    Classifier                            \n",
       "f1-score  Decision Tree               0.938201  \n",
       "          K-Nearest Neighbors         0.908976  \n",
       "          Logistic Regression         0.929077  \n",
       "          Random Forest               0.923077  \n",
       "          Support Vector Machine      0.917822  \n",
       "precision Decision Tree               0.939309  \n",
       "          K-Nearest Neighbors         0.909529  \n",
       "          Logistic Regression         0.945455  \n",
       "          Random Forest               0.922944  \n",
       "          Support Vector Machine      0.939130  \n",
       "recall    Decision Tree               0.937500  \n",
       "          K-Nearest Neighbors         0.912500  \n",
       "          Logistic Regression         0.925000  \n",
       "          Random Forest               0.925000  \n",
       "          Support Vector Machine      0.912500  \n",
       "support   Decision Tree              80.000000  \n",
       "          K-Nearest Neighbors        80.000000  \n",
       "          Logistic Regression        80.000000  \n",
       "          Random Forest              80.000000  \n",
       "          Support Vector Machine     80.000000  "
      ]
     },
     "execution_count": 142,
     "metadata": {},
     "output_type": "execute_result"
    }
   ],
   "source": [
    "for i, classifier in enumerate(classifiers):\n",
    "    predictions = classifier.predict(X_val)\n",
    "    \n",
    "    classifier_score_df = pd.DataFrame(\n",
    "                        classification_report(y_val,\n",
    "                                             predictions,\n",
    "                                             target_names=['Baseline',\n",
    "                                                           'Seizure'],\n",
    "                                             digits=2,\n",
    "                                             output_dict=True))\n",
    "    classifier_score_df.index.name = 'Metric'\n",
    "    classifier_score_df['Classifier'] = classifier_names[i]\n",
    "    classifier_score_df = classifier_score_df.set_index('Classifier', append=True)\n",
    "  \n",
    "    if i == 0:\n",
    "        all_scores = classifier_score_df\n",
    "\n",
    "    else:\n",
    "        all_scores = pd.concat([all_scores, classifier_score_df])\n",
    "        \n",
    "all_scores.sort_index()"
   ]
  },
  {
   "cell_type": "markdown",
   "metadata": {},
   "source": [
    "### looks like Random forest is the best across the board"
   ]
  },
  {
   "cell_type": "markdown",
   "metadata": {},
   "source": [
    "# Receiver Operating Characteristic (ROC) Curve\n",
    "\n",
    "We can also use plots to visualise each models performance.\n",
    "\n",
    "ROC curves are useful for comparing classification models based on their false positive and true positive rate performance. A ROC curve is computed by shifting the decision threshold of the classifier"
   ]
  },
  {
   "cell_type": "code",
   "execution_count": 143,
   "metadata": {},
   "outputs": [
    {
     "data": {
      "image/png": "[encoded data removed]",
      "text/plain": [
       "<Figure size 576x576 with 1 Axes>"
      ]
     },
     "metadata": {},
     "output_type": "display_data"
    }
   ],
   "source": [
    "from sklearn.metrics import roc_curve, roc_auc_score, auc\n",
    "from sklearn.externals import joblib\n",
    "import re\n",
    "\n",
    "def ROC(classifiers, classifier_names, X_train, X_val, y_train, y_val):\n",
    "  \n",
    "    # this creates the matplotlib graph to make the confmat look nicer\n",
    "    fig, ax = plt.subplots(figsize=(8, 8))\n",
    "    # for each classifier...\n",
    "    for i, classifer in enumerate(classifiers):\n",
    "        # fit the pipeline\n",
    "        probas = classifer.fit(X_train, y_train).predict_proba(X_val)\n",
    "\n",
    "        # get the roc curve info\n",
    "        fpr, tpr, thresholds = roc_curve(y_val, \n",
    "                                         probas[:, 1], \n",
    "                                         pos_label=1)\n",
    "\n",
    "        roc_auc = auc(fpr, tpr)\n",
    "\n",
    "        plt.plot(fpr, \n",
    "                 tpr, \n",
    "                 lw=1, \n",
    "                 label='{} (area = %0.2f)'.format(classifier_names[i]) %roc_auc)\n",
    "\n",
    "    plt.plot([0, 1], \n",
    "           [0, 1], \n",
    "           linestyle='--', \n",
    "           color=(0.6, 0.6, 0.6), \n",
    "           label='random guessing')\n",
    "\n",
    "    plt.plot([0, 0, 1], \n",
    "           [0, 1, 1], \n",
    "           lw=2, \n",
    "           linestyle=':', \n",
    "           color='black', \n",
    "           label='perfect performance')\n",
    "\n",
    "    plt.xlim([-0.05, 1.05])\n",
    "    plt.ylim([-0.05, 1.05])\n",
    "    plt.xlabel('false positive rate')\n",
    "    plt.ylabel('true positive rate (recall)')\n",
    "    plt.title('Receiver Operator Characteristic on Validation Set')\n",
    "    plt.legend(loc=\"lower right\", fontsize ='medium')\n",
    "\n",
    "    plt.tight_layout()\n",
    "    plt.show()    \n",
    "    \n",
    "\n",
    "ROC(classifiers, classifier_names, X_train, X_val, y_train, \n",
    "    y_val)"
   ]
  },
  {
   "cell_type": "markdown",
   "metadata": {},
   "source": [
    "# precision recall curve"
   ]
  },
  {
   "cell_type": "code",
   "execution_count": 144,
   "metadata": {},
   "outputs": [],
   "source": [
    "from sklearn.metrics import precision_recall_curve\n",
    "#from sklearn.utils.fixes import signature\n",
    "from sklearn.externals import joblib\n",
    "from sklearn.metrics import average_precision_score\n",
    "\n",
    "def Precision_Curve(classifier_list, classifier_names, X_train, \n",
    "                    X_val, y_train, y_val):\n",
    "\n",
    "  # for each classifier...\n",
    "    for i, classifer_ in enumerate(classifier_list):\n",
    "\n",
    "        y_score = classifer_.decision_function(X_val)\n",
    "\n",
    "        precision, recall, _ = precision_recall_curve(y_val, y_score)\n",
    "\n",
    "        average_precision = average_precision_score(y_val, y_score)\n",
    "\n",
    "        plt.step(recall, precision, where='post', \n",
    "           label=classifier_names[i]+' PREC = %0.2f'% average_precision)\n",
    "\n",
    "    plt.xlabel('Recall')\n",
    "    plt.ylabel('Precision')\n",
    "    plt.ylim([0.0, 1.05])\n",
    "    plt.xlim([0.0, 1.0])\n",
    "    plt.title('Precision-Recall curve on Validation Set')\n",
    "    plt.legend(loc=\"lower right\")\n",
    "\n",
    "    plt.tight_layout()\n",
    "    plt.show()"
   ]
  },
  {
   "cell_type": "code",
   "execution_count": 145,
   "metadata": {},
   "outputs": [
    {
     "data": {
      "image/png": "[encoded data removed]",
      "text/plain": [
       "<Figure size 432x288 with 1 Axes>"
      ]
     },
     "metadata": {},
     "output_type": "display_data"
    }
   ],
   "source": [
    "Precision_Curve(classifiers[:2], classifier_names[:2], X_train, X_val, \n",
    "                y_train, y_val)"
   ]
  },
  {
   "cell_type": "markdown",
   "metadata": {},
   "source": [
    "## Precision Curves only work with classifiers that have a decision_function such as SVM"
   ]
  },
  {
   "cell_type": "markdown",
   "metadata": {},
   "source": [
    "The precision-recall curve shows the tradeoff between precision and recall for different decision thresholds. A high area under the curve represents both high recall and high precision, where high precision relates to a low false positive rate (predict 1 instead of a 0) and high recall rlate to a low false negative rate (predict 0 instead of 1). \n",
    "\n",
    "## High scores for both show that the classifier is returning accurate results (high precision), as well as returning a majority of all positive results (high recall).\n",
    "\n",
    "High precision = we are predicting seizure when we should be predicting seizures, i.e not predicting 1 when it should be 0). This is like not assigning the wrong class.\n",
    "High recall = out of all the true seizures, we are correctly predicting them all. This is like how many seizures from the true dataset are you able to recall."
   ]
  },
  {
   "cell_type": "code",
   "execution_count": null,
   "metadata": {},
   "outputs": [],
   "source": []
  },
  {
   "cell_type": "code",
   "execution_count": null,
   "metadata": {},
   "outputs": [],
   "source": []
  },
  {
   "cell_type": "code",
   "execution_count": null,
   "metadata": {},
   "outputs": [],
   "source": []
  },
  {
   "cell_type": "code",
   "execution_count": null,
   "metadata": {},
   "outputs": [],
   "source": []
  },
  {
   "cell_type": "code",
   "execution_count": null,
   "metadata": {},
   "outputs": [],
   "source": []
  },
  {
   "cell_type": "code",
   "execution_count": null,
   "metadata": {},
   "outputs": [],
   "source": []
  },
  {
   "cell_type": "markdown",
   "metadata": {},
   "source": [
    "# Lets try using XGBoost"
   ]
  },
  {
   "cell_type": "code",
   "execution_count": 164,
   "metadata": {},
   "outputs": [],
   "source": [
    "import xgboost as xgb\n",
    "from sklearn.model_selection import cross_val_score\n",
    "from sklearn.model_selection import StratifiedKFold"
   ]
  },
  {
   "cell_type": "code",
   "execution_count": 165,
   "metadata": {},
   "outputs": [],
   "source": [
    "data_dmatrix = xgb.DMatrix(data=X_train,label=y_train)"
   ]
  },
  {
   "cell_type": "code",
   "execution_count": 166,
   "metadata": {},
   "outputs": [
    {
     "name": "stderr",
     "output_type": "stream",
     "text": [
      "/opt/anaconda3/lib/python3.7/site-packages/sklearn/model_selection/_split.py:296: FutureWarning: Setting a random_state has no effect since shuffle is False. This will raise an error in 0.24. You should leave random_state to its default (None), or set shuffle=True.\n",
      "  FutureWarning\n"
     ]
    }
   ],
   "source": [
    "# define model\n",
    "model = xgb.XGBClassifier(objective='binary:logistic', missing=None)\n",
    "# define evaluation procedure\n",
    "cv = StratifiedKFold(n_splits=5, random_state=1)\n",
    "\n",
    "# evaluate model\n",
    "scores = cross_val_score(model, X_train, y_train, scoring='roc_auc', cv=5, n_jobs=-1)\n"
   ]
  },
  {
   "cell_type": "code",
   "execution_count": 149,
   "metadata": {},
   "outputs": [
    {
     "name": "stdout",
     "output_type": "stream",
     "text": [
      "Mean ROC AUC: 0.99383\n"
     ]
    }
   ],
   "source": [
    "# summarize performance\n",
    "print('Mean ROC AUC: %.5f' % np.mean(scores))"
   ]
  },
  {
   "cell_type": "code",
   "execution_count": 167,
   "metadata": {},
   "outputs": [
    {
     "name": "stdout",
     "output_type": "stream",
     "text": [
      "[0]\tvalidation_0-aucpr:0.76850\n",
      "[1]\tvalidation_0-aucpr:0.84435\n",
      "[2]\tvalidation_0-aucpr:0.95268\n",
      "[3]\tvalidation_0-aucpr:0.98945\n",
      "[4]\tvalidation_0-aucpr:0.98945\n",
      "[5]\tvalidation_0-aucpr:0.98945\n",
      "[6]\tvalidation_0-aucpr:0.99047\n",
      "[7]\tvalidation_0-aucpr:0.98534\n",
      "[8]\tvalidation_0-aucpr:0.97993\n",
      "[9]\tvalidation_0-aucpr:0.98047\n",
      "[10]\tvalidation_0-aucpr:0.98845\n",
      "[11]\tvalidation_0-aucpr:0.98845\n",
      "[12]\tvalidation_0-aucpr:0.99047\n",
      "[13]\tvalidation_0-aucpr:0.98635\n",
      "[14]\tvalidation_0-aucpr:0.98635\n",
      "[15]\tvalidation_0-aucpr:0.99047\n",
      "[16]\tvalidation_0-aucpr:0.99047\n"
     ]
    },
    {
     "name": "stderr",
     "output_type": "stream",
     "text": [
      "/opt/anaconda3/lib/python3.7/site-packages/xgboost/sklearn.py:888: UserWarning: The use of label encoder in XGBClassifier is deprecated and will be removed in a future release. To remove this warning, do the following: 1) Pass option use_label_encoder=False when constructing XGBClassifier object; and 2) Encode your labels (y) as integers starting with 0, i.e. 0, 1, 2, ..., [num_class - 1].\n",
      "  warnings.warn(label_encoder_deprecation_msg, UserWarning)\n",
      "/opt/anaconda3/lib/python3.7/site-packages/sklearn/preprocessing/_label.py:235: DataConversionWarning: A column-vector y was passed when a 1d array was expected. Please change the shape of y to (n_samples, ), for example using ravel().\n",
      "  y = column_or_1d(y, warn=True)\n",
      "/opt/anaconda3/lib/python3.7/site-packages/sklearn/preprocessing/_label.py:268: DataConversionWarning: A column-vector y was passed when a 1d array was expected. Please change the shape of y to (n_samples, ), for example using ravel().\n",
      "  y = column_or_1d(y, warn=True)\n"
     ]
    },
    {
     "data": {
      "text/plain": [
       "XGBClassifier(base_score=0.5, booster='gbtree', colsample_bylevel=1,\n",
       "              colsample_bynode=1, colsample_bytree=1, gamma=0, gpu_id=-1,\n",
       "              importance_type='gain', interaction_constraints='',\n",
       "              learning_rate=0.300000012, max_delta_step=0, max_depth=6,\n",
       "              min_child_weight=1, missing=None, monotone_constraints='()',\n",
       "              n_estimators=100, n_jobs=4, num_parallel_tree=1,\n",
       "              objective='binary:logistic', random_state=0, reg_alpha=0,\n",
       "              reg_lambda=1, scale_pos_weight=1, subsample=1,\n",
       "              tree_method='exact', use_label_encoder=True,\n",
       "              validate_parameters=1, verbosity=None)"
      ]
     },
     "execution_count": 167,
     "metadata": {},
     "output_type": "execute_result"
    }
   ],
   "source": [
    "model.fit(X_train, \n",
    "        y_train, \n",
    "        verbose=True,\n",
    "        early_stopping_rounds=10,\n",
    "        eval_metric='aucpr',\n",
    "        eval_set=[(X_test, y_test)])"
   ]
  },
  {
   "cell_type": "code",
   "execution_count": 168,
   "metadata": {},
   "outputs": [
    {
     "data": {
      "text/html": [
       "<div>\n",
       "<style scoped>\n",
       "    .dataframe tbody tr th:only-of-type {\n",
       "        vertical-align: middle;\n",
       "    }\n",
       "\n",
       "    .dataframe tbody tr th {\n",
       "        vertical-align: top;\n",
       "    }\n",
       "\n",
       "    .dataframe thead th {\n",
       "        text-align: right;\n",
       "    }\n",
       "</style>\n",
       "<table border=\"1\" class=\"dataframe\">\n",
       "  <thead>\n",
       "    <tr style=\"text-align: right;\">\n",
       "      <th></th>\n",
       "      <th>Baseline</th>\n",
       "      <th>Seizure</th>\n",
       "      <th>accuracy</th>\n",
       "      <th>macro avg</th>\n",
       "      <th>weighted avg</th>\n",
       "    </tr>\n",
       "  </thead>\n",
       "  <tbody>\n",
       "    <tr>\n",
       "      <th>precision</th>\n",
       "      <td>1.000000</td>\n",
       "      <td>0.909091</td>\n",
       "      <td>0.98</td>\n",
       "      <td>0.954545</td>\n",
       "      <td>0.981818</td>\n",
       "    </tr>\n",
       "    <tr>\n",
       "      <th>recall</th>\n",
       "      <td>0.975000</td>\n",
       "      <td>1.000000</td>\n",
       "      <td>0.98</td>\n",
       "      <td>0.987500</td>\n",
       "      <td>0.980000</td>\n",
       "    </tr>\n",
       "    <tr>\n",
       "      <th>f1-score</th>\n",
       "      <td>0.987342</td>\n",
       "      <td>0.952381</td>\n",
       "      <td>0.98</td>\n",
       "      <td>0.969861</td>\n",
       "      <td>0.980350</td>\n",
       "    </tr>\n",
       "    <tr>\n",
       "      <th>support</th>\n",
       "      <td>80.000000</td>\n",
       "      <td>20.000000</td>\n",
       "      <td>0.98</td>\n",
       "      <td>100.000000</td>\n",
       "      <td>100.000000</td>\n",
       "    </tr>\n",
       "  </tbody>\n",
       "</table>\n",
       "</div>"
      ],
      "text/plain": [
       "            Baseline    Seizure  accuracy   macro avg  weighted avg\n",
       "precision   1.000000   0.909091      0.98    0.954545      0.981818\n",
       "recall      0.975000   1.000000      0.98    0.987500      0.980000\n",
       "f1-score    0.987342   0.952381      0.98    0.969861      0.980350\n",
       "support    80.000000  20.000000      0.98  100.000000    100.000000"
      ]
     },
     "execution_count": 168,
     "metadata": {},
     "output_type": "execute_result"
    }
   ],
   "source": [
    "from sklearn.metrics import classification_report\n",
    "predictions = model.predict(X_test)\n",
    "\n",
    "pd.DataFrame(classification_report(y_test, \n",
    "                                   predictions, \n",
    "                                   labels=None, \n",
    "                                   target_names=['Baseline', 'Seizure'], \n",
    "                                   sample_weight=None, \n",
    "                                   digits=2, \n",
    "                                   output_dict=True))"
   ]
  },
  {
   "cell_type": "code",
   "execution_count": null,
   "metadata": {},
   "outputs": [],
   "source": []
  },
  {
   "cell_type": "code",
   "execution_count": null,
   "metadata": {},
   "outputs": [],
   "source": []
  },
  {
   "cell_type": "code",
   "execution_count": null,
   "metadata": {},
   "outputs": [],
   "source": []
  },
  {
   "cell_type": "code",
   "execution_count": null,
   "metadata": {},
   "outputs": [],
   "source": []
  },
  {
   "cell_type": "code",
   "execution_count": null,
   "metadata": {},
   "outputs": [],
   "source": []
  },
  {
   "cell_type": "code",
   "execution_count": null,
   "metadata": {},
   "outputs": [],
   "source": []
  },
  {
   "cell_type": "code",
   "execution_count": null,
   "metadata": {},
   "outputs": [],
   "source": []
  },
  {
   "cell_type": "code",
   "execution_count": null,
   "metadata": {},
   "outputs": [],
   "source": []
  },
  {
   "cell_type": "code",
   "execution_count": null,
   "metadata": {},
   "outputs": [],
   "source": []
  },
  {
   "cell_type": "code",
   "execution_count": null,
   "metadata": {},
   "outputs": [],
   "source": []
  },
  {
   "cell_type": "markdown",
   "metadata": {},
   "source": [
    "# XGBoost is overfitting to the training data. Observe training and validation curves"
   ]
  },
  {
   "cell_type": "code",
   "execution_count": 169,
   "metadata": {},
   "outputs": [
    {
     "name": "stderr",
     "output_type": "stream",
     "text": [
      "/opt/anaconda3/lib/python3.7/site-packages/sklearn/model_selection/_split.py:296: FutureWarning: Setting a random_state has no effect since shuffle is False. This will raise an error in 0.24. You should leave random_state to its default (None), or set shuffle=True.\n",
      "  FutureWarning\n"
     ]
    }
   ],
   "source": [
    "from sklearn.externals import joblib\n",
    "from sklearn.model_selection  import GridSearchCV\n",
    "from sklearn.model_selection import cross_val_score\n",
    "from sklearn.metrics import make_scorer\n",
    "from sklearn.model_selection import StratifiedKFold\n",
    "import numpy as np\n",
    "\n",
    "StratKFold = StratifiedKFold(n_splits = 5,\n",
    "                             shuffle=False,\n",
    "                             random_state=0)\n",
    "\n",
    "SCORER = make_scorer(score_func=f1_score)\n",
    "\n",
    "\n",
    "def Grid_Search(X_train, y_train, estimator, cv, \n",
    "                param_grid, scorer):\n",
    "\n",
    "    # create gridsearch object\n",
    "    gs = GridSearchCV(estimator=estimator, \n",
    "                    param_grid=param_grid, \n",
    "                    scoring=scorer, \n",
    "                    cv=cv,\n",
    "                    return_train_score=True,\n",
    "                    refit = True,\n",
    "                    n_jobs=-1)\n",
    "\n",
    "    # fit the gridsearch object\n",
    "    gs = gs.fit(X_train, \n",
    "                y_train, \n",
    "                early_stopping_rounds=10,\n",
    "                eval_metric='aucpr',\n",
    "                eval_set=[(X_test, y_test)])\n",
    "\n",
    "    # get the results of the gridsearch\n",
    "    results = pd.DataFrame(gs.cv_results_)\n",
    "\n",
    "    # select the best estimator\n",
    "    clf_pipe = gs.best_estimator_\n",
    "\n",
    "    display(results[['mean_fit_time','mean_score_time',\n",
    "                   'params','mean_test_score',\n",
    "                   'std_test_score']].sort_values(by='mean_test_score',\n",
    "                                                  ascending =False))\n",
    "\n",
    "    return clf_pipe, results\n"
   ]
  },
  {
   "cell_type": "code",
   "execution_count": 153,
   "metadata": {
    "scrolled": true
   },
   "outputs": [
    {
     "name": "stdout",
     "output_type": "stream",
     "text": [
      "[09:43:31] WARNING: /Users/travis/build/dmlc/xgboost/src/learner.cc:1061: Starting in XGBoost 1.3.0, the default evaluation metric used with the objective 'binary:logistic' was changed from 'error' to 'logloss'. Explicitly set eval_metric if you'd like to restore the old behavior.\n",
      "[09:43:31] WARNING: /Users/travis/build/dmlc/xgboost/src/learner.cc:1061: Starting in XGBoost 1.3.0, the default evaluation metric used with the objective 'binary:logistic' was changed from 'error' to 'logloss'. Explicitly set eval_metric if you'd like to restore the old behavior.\n",
      "[09:43:32] WARNING: /Users/travis/build/dmlc/xgboost/src/learner.cc:1061: Starting in XGBoost 1.3.0, the default evaluation metric used with the objective 'binary:logistic' was changed from 'error' to 'logloss'. Explicitly set eval_metric if you'd like to restore the old behavior.\n",
      "[09:43:32] WARNING: /Users/travis/build/dmlc/xgboost/src/learner.cc:1061: Starting in XGBoost 1.3.0, the default evaluation metric used with the objective 'binary:logistic' was changed from 'error' to 'logloss'. Explicitly set eval_metric if you'd like to restore the old behavior.\n",
      "[09:43:32] WARNING: /Users/travis/build/dmlc/xgboost/src/learner.cc:1061: Starting in XGBoost 1.3.0, the default evaluation metric used with the objective 'binary:logistic' was changed from 'error' to 'logloss'. Explicitly set eval_metric if you'd like to restore the old behavior.\n",
      "[09:43:32] WARNING: /Users/travis/build/dmlc/xgboost/src/learner.cc:1061: Starting in XGBoost 1.3.0, the default evaluation metric used with the objective 'binary:logistic' was changed from 'error' to 'logloss'. Explicitly set eval_metric if you'd like to restore the old behavior.\n",
      "[09:43:32] WARNING: /Users/travis/build/dmlc/xgboost/src/learner.cc:1061: Starting in XGBoost 1.3.0, the default evaluation metric used with the objective 'binary:logistic' was changed from 'error' to 'logloss'. Explicitly set eval_metric if you'd like to restore the old behavior.\n",
      "[09:43:33] WARNING: /Users/travis/build/dmlc/xgboost/src/learner.cc:1061: Starting in XGBoost 1.3.0, the default evaluation metric used with the objective 'binary:logistic' was changed from 'error' to 'logloss'. Explicitly set eval_metric if you'd like to restore the old behavior.\n",
      "[09:43:33] WARNING: /Users/travis/build/dmlc/xgboost/src/learner.cc:1061: Starting in XGBoost 1.3.0, the default evaluation metric used with the objective 'binary:logistic' was changed from 'error' to 'logloss'. Explicitly set eval_metric if you'd like to restore the old behavior.\n",
      "[09:43:33] WARNING: /Users/travis/build/dmlc/xgboost/src/learner.cc:1061: Starting in XGBoost 1.3.0, the default evaluation metric used with the objective 'binary:logistic' was changed from 'error' to 'logloss'. Explicitly set eval_metric if you'd like to restore the old behavior.\n",
      "[09:43:33] WARNING: /Users/travis/build/dmlc/xgboost/src/learner.cc:1061: Starting in XGBoost 1.3.0, the default evaluation metric used with the objective 'binary:logistic' was changed from 'error' to 'logloss'. Explicitly set eval_metric if you'd like to restore the old behavior.\n",
      "[09:43:34] WARNING: /Users/travis/build/dmlc/xgboost/src/learner.cc:1061: Starting in XGBoost 1.3.0, the default evaluation metric used with the objective 'binary:logistic' was changed from 'error' to 'logloss'. Explicitly set eval_metric if you'd like to restore the old behavior.\n",
      "[09:43:34] WARNING: /Users/travis/build/dmlc/xgboost/src/learner.cc:1061: Starting in XGBoost 1.3.0, the default evaluation metric used with the objective 'binary:logistic' was changed from 'error' to 'logloss'. Explicitly set eval_metric if you'd like to restore the old behavior.\n",
      "[09:43:34] WARNING: /Users/travis/build/dmlc/xgboost/src/learner.cc:1061: Starting in XGBoost 1.3.0, the default evaluation metric used with the objective 'binary:logistic' was changed from 'error' to 'logloss'. Explicitly set eval_metric if you'd like to restore the old behavior.\n",
      "[09:43:35] WARNING: /Users/travis/build/dmlc/xgboost/src/learner.cc:1061: Starting in XGBoost 1.3.0, the default evaluation metric used with the objective 'binary:logistic' was changed from 'error' to 'logloss'. Explicitly set eval_metric if you'd like to restore the old behavior.\n",
      "[09:43:35] WARNING: /Users/travis/build/dmlc/xgboost/src/learner.cc:1061: Starting in XGBoost 1.3.0, the default evaluation metric used with the objective 'binary:logistic' was changed from 'error' to 'logloss'. Explicitly set eval_metric if you'd like to restore the old behavior.\n"
     ]
    }
   ],
   "source": [
    "model = xgb.XGBClassifier(use_label_encoder=False)\n",
    "param_grid = {\n",
    "    'n_estimators': [400, 800, 1000],\n",
    "}\n",
    "\n",
    "SCORER = make_scorer(score_func=f1_score)\n",
    "\n",
    "# scorers = {\n",
    "#             'f1_score':make_scorer(f1_score),\n",
    "#             'precision_score': make_scorer(precision_score),\n",
    "#             'recall_score': make_scorer(recall_score),\n",
    "#             'accuracy_score': make_scorer(accuracy_score)\n",
    "#           }\n",
    "\n",
    "StratKFold = StratifiedKFold(n_splits = 5,\n",
    "                             shuffle=True,\n",
    "                             random_state=0)\n",
    "\n",
    "grid = GridSearchCV(model, \n",
    "                    param_grid=param_grid, \n",
    "                    scoring=SCORER, \n",
    "                    cv=StratKFold,\n",
    "                    return_train_score=True);\n",
    "\n",
    "grid.fit(X_train, y_train);\n",
    "# Dictionary of best parameters\n",
    "best_pars = grid.best_params_;"
   ]
  },
  {
   "cell_type": "code",
   "execution_count": 170,
   "metadata": {},
   "outputs": [
    {
     "data": {
      "text/html": [
       "<div>\n",
       "<style scoped>\n",
       "    .dataframe tbody tr th:only-of-type {\n",
       "        vertical-align: middle;\n",
       "    }\n",
       "\n",
       "    .dataframe tbody tr th {\n",
       "        vertical-align: top;\n",
       "    }\n",
       "\n",
       "    .dataframe thead th {\n",
       "        text-align: right;\n",
       "    }\n",
       "</style>\n",
       "<table border=\"1\" class=\"dataframe\">\n",
       "  <thead>\n",
       "    <tr style=\"text-align: right;\">\n",
       "      <th></th>\n",
       "      <th>mean_fit_time</th>\n",
       "      <th>mean_score_time</th>\n",
       "      <th>params</th>\n",
       "      <th>mean_test_score</th>\n",
       "      <th>std_test_score</th>\n",
       "    </tr>\n",
       "  </thead>\n",
       "  <tbody>\n",
       "    <tr>\n",
       "      <th>0</th>\n",
       "      <td>0.131497</td>\n",
       "      <td>0.003173</td>\n",
       "      <td>{'n_estimators': 400}</td>\n",
       "      <td>0.901333</td>\n",
       "      <td>0.042405</td>\n",
       "    </tr>\n",
       "    <tr>\n",
       "      <th>1</th>\n",
       "      <td>0.245715</td>\n",
       "      <td>0.003315</td>\n",
       "      <td>{'n_estimators': 800}</td>\n",
       "      <td>0.901333</td>\n",
       "      <td>0.042405</td>\n",
       "    </tr>\n",
       "    <tr>\n",
       "      <th>2</th>\n",
       "      <td>0.338218</td>\n",
       "      <td>0.003924</td>\n",
       "      <td>{'n_estimators': 1000}</td>\n",
       "      <td>0.901333</td>\n",
       "      <td>0.042405</td>\n",
       "    </tr>\n",
       "  </tbody>\n",
       "</table>\n",
       "</div>"
      ],
      "text/plain": [
       "   mean_fit_time  mean_score_time                  params  mean_test_score  \\\n",
       "0       0.131497         0.003173   {'n_estimators': 400}         0.901333   \n",
       "1       0.245715         0.003315   {'n_estimators': 800}         0.901333   \n",
       "2       0.338218         0.003924  {'n_estimators': 1000}         0.901333   \n",
       "\n",
       "   std_test_score  \n",
       "0        0.042405  \n",
       "1        0.042405  \n",
       "2        0.042405  "
      ]
     },
     "metadata": {},
     "output_type": "display_data"
    }
   ],
   "source": [
    "# get the results of the gridsearch\n",
    "results = pd.DataFrame(grid.cv_results_)\n",
    "\n",
    "# select the best estimator\n",
    "clf_pipe = grid.best_estimator_\n",
    "\n",
    "display(results[['mean_fit_time','mean_score_time',\n",
    "               'params','mean_test_score',\n",
    "               'std_test_score']].sort_values(by='mean_test_score',\n",
    "                                              ascending =False))"
   ]
  },
  {
   "cell_type": "code",
   "execution_count": 171,
   "metadata": {},
   "outputs": [
    {
     "name": "stdout",
     "output_type": "stream",
     "text": [
      "[09:48:28] WARNING: /Users/travis/build/dmlc/xgboost/src/learner.cc:1061: Starting in XGBoost 1.3.0, the default evaluation metric used with the objective 'binary:logistic' was changed from 'error' to 'logloss'. Explicitly set eval_metric if you'd like to restore the old behavior.\n"
     ]
    },
    {
     "data": {
      "text/plain": [
       "XGBClassifier(base_score=0.5, booster='gbtree', colsample_bylevel=1,\n",
       "              colsample_bynode=1, colsample_bytree=1, gamma=0, gpu_id=-1,\n",
       "              importance_type='gain', interaction_constraints='',\n",
       "              learning_rate=0.300000012, max_delta_step=0, max_depth=6,\n",
       "              min_child_weight=1, missing=nan, monotone_constraints='()',\n",
       "              n_estimators=400, n_jobs=4, num_parallel_tree=1,\n",
       "              objective='binary:logistic', random_state=0, reg_alpha=0,\n",
       "              reg_lambda=1, scale_pos_weight=1, subsample=1,\n",
       "              tree_method='exact', use_label_encoder=False,\n",
       "              validate_parameters=1, verbosity=None)"
      ]
     },
     "execution_count": 171,
     "metadata": {},
     "output_type": "execute_result"
    }
   ],
   "source": [
    "clf_pipe.fit(X_test, y_test)"
   ]
  },
  {
   "cell_type": "code",
   "execution_count": 172,
   "metadata": {},
   "outputs": [
    {
     "data": {
      "text/html": [
       "<div>\n",
       "<style scoped>\n",
       "    .dataframe tbody tr th:only-of-type {\n",
       "        vertical-align: middle;\n",
       "    }\n",
       "\n",
       "    .dataframe tbody tr th {\n",
       "        vertical-align: top;\n",
       "    }\n",
       "\n",
       "    .dataframe thead th {\n",
       "        text-align: right;\n",
       "    }\n",
       "</style>\n",
       "<table border=\"1\" class=\"dataframe\">\n",
       "  <thead>\n",
       "    <tr style=\"text-align: right;\">\n",
       "      <th></th>\n",
       "      <th>Baseline</th>\n",
       "      <th>Seizure</th>\n",
       "      <th>accuracy</th>\n",
       "      <th>macro avg</th>\n",
       "      <th>weighted avg</th>\n",
       "    </tr>\n",
       "  </thead>\n",
       "  <tbody>\n",
       "    <tr>\n",
       "      <th>precision</th>\n",
       "      <td>1.0</td>\n",
       "      <td>1.0</td>\n",
       "      <td>1.0</td>\n",
       "      <td>1.0</td>\n",
       "      <td>1.0</td>\n",
       "    </tr>\n",
       "    <tr>\n",
       "      <th>recall</th>\n",
       "      <td>1.0</td>\n",
       "      <td>1.0</td>\n",
       "      <td>1.0</td>\n",
       "      <td>1.0</td>\n",
       "      <td>1.0</td>\n",
       "    </tr>\n",
       "    <tr>\n",
       "      <th>f1-score</th>\n",
       "      <td>1.0</td>\n",
       "      <td>1.0</td>\n",
       "      <td>1.0</td>\n",
       "      <td>1.0</td>\n",
       "      <td>1.0</td>\n",
       "    </tr>\n",
       "    <tr>\n",
       "      <th>support</th>\n",
       "      <td>80.0</td>\n",
       "      <td>20.0</td>\n",
       "      <td>1.0</td>\n",
       "      <td>100.0</td>\n",
       "      <td>100.0</td>\n",
       "    </tr>\n",
       "  </tbody>\n",
       "</table>\n",
       "</div>"
      ],
      "text/plain": [
       "           Baseline  Seizure  accuracy  macro avg  weighted avg\n",
       "precision       1.0      1.0       1.0        1.0           1.0\n",
       "recall          1.0      1.0       1.0        1.0           1.0\n",
       "f1-score        1.0      1.0       1.0        1.0           1.0\n",
       "support        80.0     20.0       1.0      100.0         100.0"
      ]
     },
     "execution_count": 172,
     "metadata": {},
     "output_type": "execute_result"
    }
   ],
   "source": [
    "from sklearn.metrics import classification_report\n",
    "predictions = clf_pipe.predict(X_test)\n",
    "\n",
    "pd.DataFrame(classification_report(y_test, \n",
    "                                   predictions, \n",
    "                                   labels=None, \n",
    "                                   target_names=['Baseline', 'Seizure'], \n",
    "                                   sample_weight=None, \n",
    "                                   digits=2, \n",
    "                                   output_dict=True))"
   ]
  },
  {
   "cell_type": "code",
   "execution_count": 177,
   "metadata": {},
   "outputs": [
    {
     "data": {
      "text/plain": [
       "array([0, 0, 0, 1, 0, 0, 0, 0, 0, 0, 0, 1, 0, 0, 1, 0, 0, 0, 0, 0, 0, 0,\n",
       "       0, 0, 1, 0, 0, 0, 0, 0, 0, 0, 1, 1, 0, 0, 0, 0, 0, 0, 1, 1, 0, 0,\n",
       "       0, 0, 1, 0, 1, 0, 0, 0, 0, 1, 1, 0, 0, 0, 0, 0, 0, 0, 1, 0, 0, 1,\n",
       "       0, 0, 0, 1, 0, 0, 0, 0, 1, 0, 0, 0, 0, 0, 0, 0, 0, 1, 1, 0, 1, 0,\n",
       "       0, 0, 0, 0, 0, 1, 0, 0, 0, 0, 0, 0])"
      ]
     },
     "execution_count": 177,
     "metadata": {},
     "output_type": "execute_result"
    }
   ],
   "source": [
    "clf_pipe.predict(X_test).T"
   ]
  },
  {
   "cell_type": "code",
   "execution_count": 178,
   "metadata": {},
   "outputs": [
    {
     "data": {
      "text/plain": [
       "array([[0, 0, 0, 1, 0, 0, 0, 0, 0, 0, 0, 1, 0, 0, 1, 0, 0, 0, 0, 0, 0, 0,\n",
       "        0, 0, 1, 0, 0, 0, 0, 0, 0, 0, 1, 1, 0, 0, 0, 0, 0, 0, 1, 1, 0, 0,\n",
       "        0, 0, 1, 0, 1, 0, 0, 0, 0, 1, 1, 0, 0, 0, 0, 0, 0, 0, 1, 0, 0, 1,\n",
       "        0, 0, 0, 1, 0, 0, 0, 0, 1, 0, 0, 0, 0, 0, 0, 0, 0, 1, 1, 0, 1, 0,\n",
       "        0, 0, 0, 0, 0, 1, 0, 0, 0, 0, 0, 0]])"
      ]
     },
     "execution_count": 178,
     "metadata": {},
     "output_type": "execute_result"
    }
   ],
   "source": [
    "y_test.T"
   ]
  },
  {
   "cell_type": "code",
   "execution_count": 179,
   "metadata": {},
   "outputs": [],
   "source": [
    "summary = results[['param_n_estimators', 'mean_train_score', 'mean_test_score']]"
   ]
  },
  {
   "cell_type": "code",
   "execution_count": 180,
   "metadata": {},
   "outputs": [],
   "source": [
    "summary_long = pd.melt(summary, \n",
    "                       id_vars=['param_n_estimators'],\n",
    "                       value_vars=['mean_train_score', \n",
    "                                   'mean_test_score'],\n",
    "                        var_name='metric',\n",
    "                      value_name='score')"
   ]
  },
  {
   "cell_type": "code",
   "execution_count": 181,
   "metadata": {},
   "outputs": [
    {
     "data": {
      "text/html": [
       "<div>\n",
       "<style scoped>\n",
       "    .dataframe tbody tr th:only-of-type {\n",
       "        vertical-align: middle;\n",
       "    }\n",
       "\n",
       "    .dataframe tbody tr th {\n",
       "        vertical-align: top;\n",
       "    }\n",
       "\n",
       "    .dataframe thead th {\n",
       "        text-align: right;\n",
       "    }\n",
       "</style>\n",
       "<table border=\"1\" class=\"dataframe\">\n",
       "  <thead>\n",
       "    <tr style=\"text-align: right;\">\n",
       "      <th></th>\n",
       "      <th>param_n_estimators</th>\n",
       "      <th>metric</th>\n",
       "      <th>score</th>\n",
       "    </tr>\n",
       "  </thead>\n",
       "  <tbody>\n",
       "    <tr>\n",
       "      <th>0</th>\n",
       "      <td>400</td>\n",
       "      <td>mean_train_score</td>\n",
       "      <td>1.000000</td>\n",
       "    </tr>\n",
       "    <tr>\n",
       "      <th>1</th>\n",
       "      <td>800</td>\n",
       "      <td>mean_train_score</td>\n",
       "      <td>1.000000</td>\n",
       "    </tr>\n",
       "    <tr>\n",
       "      <th>2</th>\n",
       "      <td>1000</td>\n",
       "      <td>mean_train_score</td>\n",
       "      <td>1.000000</td>\n",
       "    </tr>\n",
       "    <tr>\n",
       "      <th>3</th>\n",
       "      <td>400</td>\n",
       "      <td>mean_test_score</td>\n",
       "      <td>0.901333</td>\n",
       "    </tr>\n",
       "    <tr>\n",
       "      <th>4</th>\n",
       "      <td>800</td>\n",
       "      <td>mean_test_score</td>\n",
       "      <td>0.901333</td>\n",
       "    </tr>\n",
       "    <tr>\n",
       "      <th>5</th>\n",
       "      <td>1000</td>\n",
       "      <td>mean_test_score</td>\n",
       "      <td>0.901333</td>\n",
       "    </tr>\n",
       "  </tbody>\n",
       "</table>\n",
       "</div>"
      ],
      "text/plain": [
       "  param_n_estimators            metric     score\n",
       "0                400  mean_train_score  1.000000\n",
       "1                800  mean_train_score  1.000000\n",
       "2               1000  mean_train_score  1.000000\n",
       "3                400   mean_test_score  0.901333\n",
       "4                800   mean_test_score  0.901333\n",
       "5               1000   mean_test_score  0.901333"
      ]
     },
     "metadata": {},
     "output_type": "display_data"
    }
   ],
   "source": [
    "display(summary_long)"
   ]
  },
  {
   "cell_type": "code",
   "execution_count": 182,
   "metadata": {},
   "outputs": [
    {
     "data": {
      "image/png": "[encoded data removed]",
      "text/plain": [
       "<Figure size 487.975x360 with 1 Axes>"
      ]
     },
     "metadata": {},
     "output_type": "display_data"
    }
   ],
   "source": [
    "g = sns.relplot(data=summary_long,\n",
    "               x = 'param_n_estimators',\n",
    "               y ='score',\n",
    "#                row='param_clf__min_samples_split',\n",
    "#                col='param_clf__n_estimators',\n",
    "               hue='metric',\n",
    "               kind='line')"
   ]
  },
  {
   "cell_type": "code",
   "execution_count": null,
   "metadata": {},
   "outputs": [],
   "source": []
  }
 ],
 "metadata": {
  "kernelspec": {
   "display_name": "Python 3",
   "language": "python",
   "name": "python3"
  },
  "language_info": {
   "codemirror_mode": {
    "name": "ipython",
    "version": 3
   },
   "file_extension": ".py",
   "mimetype": "text/x-python",
   "name": "python",
   "nbconvert_exporter": "python",
   "pygments_lexer": "ipython3",
   "version": "3.7.6"
  }
 },
 "nbformat": 4,
 "nbformat_minor": 4
}
